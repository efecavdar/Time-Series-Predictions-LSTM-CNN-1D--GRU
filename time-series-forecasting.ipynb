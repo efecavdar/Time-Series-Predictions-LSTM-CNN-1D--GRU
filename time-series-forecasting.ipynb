{
 "cells": [
  {
   "cell_type": "code",
   "execution_count": 54,
   "metadata": {},
   "outputs": [],
   "source": [
    "import tensorflow as tf\n",
    "import os\n",
    "import pandas as pd\n",
    "import numpy as np"
   ]
  },
  {
   "cell_type": "code",
   "execution_count": 55,
   "metadata": {},
   "outputs": [],
   "source": [
    "zip_path = tf.keras.utils.get_file(\n",
    "    origin='https://storage.googleapis.com/tensorflow/tf-keras-datasets/jena_climate_2009_2016.csv.zip',\n",
    "    fname='jena_climate_2009_2016.csv.zip',\n",
    "    extract=True)\n",
    "csv_path, _ = os.path.splitext(zip_path)"
   ]
  },
  {
   "cell_type": "code",
   "execution_count": 56,
   "metadata": {},
   "outputs": [
    {
     "data": {
      "text/html": [
       "<div>\n",
       "<style scoped>\n",
       "    .dataframe tbody tr th:only-of-type {\n",
       "        vertical-align: middle;\n",
       "    }\n",
       "\n",
       "    .dataframe tbody tr th {\n",
       "        vertical-align: top;\n",
       "    }\n",
       "\n",
       "    .dataframe thead th {\n",
       "        text-align: right;\n",
       "    }\n",
       "</style>\n",
       "<table border=\"1\" class=\"dataframe\">\n",
       "  <thead>\n",
       "    <tr style=\"text-align: right;\">\n",
       "      <th></th>\n",
       "      <th>Date Time</th>\n",
       "      <th>p (mbar)</th>\n",
       "      <th>T (degC)</th>\n",
       "      <th>Tpot (K)</th>\n",
       "      <th>Tdew (degC)</th>\n",
       "      <th>rh (%)</th>\n",
       "      <th>VPmax (mbar)</th>\n",
       "      <th>VPact (mbar)</th>\n",
       "      <th>VPdef (mbar)</th>\n",
       "      <th>sh (g/kg)</th>\n",
       "      <th>H2OC (mmol/mol)</th>\n",
       "      <th>rho (g/m**3)</th>\n",
       "      <th>wv (m/s)</th>\n",
       "      <th>max. wv (m/s)</th>\n",
       "      <th>wd (deg)</th>\n",
       "    </tr>\n",
       "  </thead>\n",
       "  <tbody>\n",
       "    <tr>\n",
       "      <th>0</th>\n",
       "      <td>01.01.2009 00:10:00</td>\n",
       "      <td>996.52</td>\n",
       "      <td>-8.02</td>\n",
       "      <td>265.40</td>\n",
       "      <td>-8.90</td>\n",
       "      <td>93.3</td>\n",
       "      <td>3.33</td>\n",
       "      <td>3.11</td>\n",
       "      <td>0.22</td>\n",
       "      <td>1.94</td>\n",
       "      <td>3.12</td>\n",
       "      <td>1307.75</td>\n",
       "      <td>1.03</td>\n",
       "      <td>1.75</td>\n",
       "      <td>152.3</td>\n",
       "    </tr>\n",
       "    <tr>\n",
       "      <th>1</th>\n",
       "      <td>01.01.2009 00:20:00</td>\n",
       "      <td>996.57</td>\n",
       "      <td>-8.41</td>\n",
       "      <td>265.01</td>\n",
       "      <td>-9.28</td>\n",
       "      <td>93.4</td>\n",
       "      <td>3.23</td>\n",
       "      <td>3.02</td>\n",
       "      <td>0.21</td>\n",
       "      <td>1.89</td>\n",
       "      <td>3.03</td>\n",
       "      <td>1309.80</td>\n",
       "      <td>0.72</td>\n",
       "      <td>1.50</td>\n",
       "      <td>136.1</td>\n",
       "    </tr>\n",
       "    <tr>\n",
       "      <th>2</th>\n",
       "      <td>01.01.2009 00:30:00</td>\n",
       "      <td>996.53</td>\n",
       "      <td>-8.51</td>\n",
       "      <td>264.91</td>\n",
       "      <td>-9.31</td>\n",
       "      <td>93.9</td>\n",
       "      <td>3.21</td>\n",
       "      <td>3.01</td>\n",
       "      <td>0.20</td>\n",
       "      <td>1.88</td>\n",
       "      <td>3.02</td>\n",
       "      <td>1310.24</td>\n",
       "      <td>0.19</td>\n",
       "      <td>0.63</td>\n",
       "      <td>171.6</td>\n",
       "    </tr>\n",
       "    <tr>\n",
       "      <th>3</th>\n",
       "      <td>01.01.2009 00:40:00</td>\n",
       "      <td>996.51</td>\n",
       "      <td>-8.31</td>\n",
       "      <td>265.12</td>\n",
       "      <td>-9.07</td>\n",
       "      <td>94.2</td>\n",
       "      <td>3.26</td>\n",
       "      <td>3.07</td>\n",
       "      <td>0.19</td>\n",
       "      <td>1.92</td>\n",
       "      <td>3.08</td>\n",
       "      <td>1309.19</td>\n",
       "      <td>0.34</td>\n",
       "      <td>0.50</td>\n",
       "      <td>198.0</td>\n",
       "    </tr>\n",
       "    <tr>\n",
       "      <th>4</th>\n",
       "      <td>01.01.2009 00:50:00</td>\n",
       "      <td>996.51</td>\n",
       "      <td>-8.27</td>\n",
       "      <td>265.15</td>\n",
       "      <td>-9.04</td>\n",
       "      <td>94.1</td>\n",
       "      <td>3.27</td>\n",
       "      <td>3.08</td>\n",
       "      <td>0.19</td>\n",
       "      <td>1.92</td>\n",
       "      <td>3.09</td>\n",
       "      <td>1309.00</td>\n",
       "      <td>0.32</td>\n",
       "      <td>0.63</td>\n",
       "      <td>214.3</td>\n",
       "    </tr>\n",
       "  </tbody>\n",
       "</table>\n",
       "</div>"
      ],
      "text/plain": [
       "             Date Time  p (mbar)  T (degC)  Tpot (K)  Tdew (degC)  rh (%)  \\\n",
       "0  01.01.2009 00:10:00    996.52     -8.02    265.40        -8.90    93.3   \n",
       "1  01.01.2009 00:20:00    996.57     -8.41    265.01        -9.28    93.4   \n",
       "2  01.01.2009 00:30:00    996.53     -8.51    264.91        -9.31    93.9   \n",
       "3  01.01.2009 00:40:00    996.51     -8.31    265.12        -9.07    94.2   \n",
       "4  01.01.2009 00:50:00    996.51     -8.27    265.15        -9.04    94.1   \n",
       "\n",
       "   VPmax (mbar)  VPact (mbar)  VPdef (mbar)  sh (g/kg)  H2OC (mmol/mol)  \\\n",
       "0          3.33          3.11          0.22       1.94             3.12   \n",
       "1          3.23          3.02          0.21       1.89             3.03   \n",
       "2          3.21          3.01          0.20       1.88             3.02   \n",
       "3          3.26          3.07          0.19       1.92             3.08   \n",
       "4          3.27          3.08          0.19       1.92             3.09   \n",
       "\n",
       "   rho (g/m**3)  wv (m/s)  max. wv (m/s)  wd (deg)  \n",
       "0       1307.75      1.03           1.75     152.3  \n",
       "1       1309.80      0.72           1.50     136.1  \n",
       "2       1310.24      0.19           0.63     171.6  \n",
       "3       1309.19      0.34           0.50     198.0  \n",
       "4       1309.00      0.32           0.63     214.3  "
      ]
     },
     "execution_count": 56,
     "metadata": {},
     "output_type": "execute_result"
    }
   ],
   "source": [
    "data = pd.read_csv(csv_path)\n",
    "data.head()"
   ]
  },
  {
   "cell_type": "code",
   "execution_count": 57,
   "metadata": {},
   "outputs": [
    {
     "data": {
      "text/html": [
       "<div>\n",
       "<style scoped>\n",
       "    .dataframe tbody tr th:only-of-type {\n",
       "        vertical-align: middle;\n",
       "    }\n",
       "\n",
       "    .dataframe tbody tr th {\n",
       "        vertical-align: top;\n",
       "    }\n",
       "\n",
       "    .dataframe thead th {\n",
       "        text-align: right;\n",
       "    }\n",
       "</style>\n",
       "<table border=\"1\" class=\"dataframe\">\n",
       "  <thead>\n",
       "    <tr style=\"text-align: right;\">\n",
       "      <th></th>\n",
       "      <th>Date Time</th>\n",
       "      <th>p (mbar)</th>\n",
       "      <th>T (degC)</th>\n",
       "      <th>Tpot (K)</th>\n",
       "      <th>Tdew (degC)</th>\n",
       "      <th>rh (%)</th>\n",
       "      <th>VPmax (mbar)</th>\n",
       "      <th>VPact (mbar)</th>\n",
       "      <th>VPdef (mbar)</th>\n",
       "      <th>sh (g/kg)</th>\n",
       "      <th>H2OC (mmol/mol)</th>\n",
       "      <th>rho (g/m**3)</th>\n",
       "      <th>wv (m/s)</th>\n",
       "      <th>max. wv (m/s)</th>\n",
       "      <th>wd (deg)</th>\n",
       "    </tr>\n",
       "  </thead>\n",
       "  <tbody>\n",
       "    <tr>\n",
       "      <th>5</th>\n",
       "      <td>01.01.2009 01:00:00</td>\n",
       "      <td>996.50</td>\n",
       "      <td>-8.05</td>\n",
       "      <td>265.38</td>\n",
       "      <td>-8.78</td>\n",
       "      <td>94.40</td>\n",
       "      <td>3.33</td>\n",
       "      <td>3.14</td>\n",
       "      <td>0.19</td>\n",
       "      <td>1.96</td>\n",
       "      <td>3.15</td>\n",
       "      <td>1307.86</td>\n",
       "      <td>0.21</td>\n",
       "      <td>0.63</td>\n",
       "      <td>192.7</td>\n",
       "    </tr>\n",
       "    <tr>\n",
       "      <th>11</th>\n",
       "      <td>01.01.2009 02:00:00</td>\n",
       "      <td>996.62</td>\n",
       "      <td>-8.88</td>\n",
       "      <td>264.54</td>\n",
       "      <td>-9.77</td>\n",
       "      <td>93.20</td>\n",
       "      <td>3.12</td>\n",
       "      <td>2.90</td>\n",
       "      <td>0.21</td>\n",
       "      <td>1.81</td>\n",
       "      <td>2.91</td>\n",
       "      <td>1312.25</td>\n",
       "      <td>0.25</td>\n",
       "      <td>0.63</td>\n",
       "      <td>190.3</td>\n",
       "    </tr>\n",
       "    <tr>\n",
       "      <th>17</th>\n",
       "      <td>01.01.2009 03:00:00</td>\n",
       "      <td>996.84</td>\n",
       "      <td>-8.81</td>\n",
       "      <td>264.59</td>\n",
       "      <td>-9.66</td>\n",
       "      <td>93.50</td>\n",
       "      <td>3.13</td>\n",
       "      <td>2.93</td>\n",
       "      <td>0.20</td>\n",
       "      <td>1.83</td>\n",
       "      <td>2.94</td>\n",
       "      <td>1312.18</td>\n",
       "      <td>0.18</td>\n",
       "      <td>0.63</td>\n",
       "      <td>167.2</td>\n",
       "    </tr>\n",
       "    <tr>\n",
       "      <th>23</th>\n",
       "      <td>01.01.2009 04:00:00</td>\n",
       "      <td>996.99</td>\n",
       "      <td>-9.05</td>\n",
       "      <td>264.34</td>\n",
       "      <td>-10.02</td>\n",
       "      <td>92.60</td>\n",
       "      <td>3.07</td>\n",
       "      <td>2.85</td>\n",
       "      <td>0.23</td>\n",
       "      <td>1.78</td>\n",
       "      <td>2.85</td>\n",
       "      <td>1313.61</td>\n",
       "      <td>0.10</td>\n",
       "      <td>0.38</td>\n",
       "      <td>240.0</td>\n",
       "    </tr>\n",
       "    <tr>\n",
       "      <th>29</th>\n",
       "      <td>01.01.2009 05:00:00</td>\n",
       "      <td>997.46</td>\n",
       "      <td>-9.63</td>\n",
       "      <td>263.72</td>\n",
       "      <td>-10.65</td>\n",
       "      <td>92.20</td>\n",
       "      <td>2.94</td>\n",
       "      <td>2.71</td>\n",
       "      <td>0.23</td>\n",
       "      <td>1.69</td>\n",
       "      <td>2.71</td>\n",
       "      <td>1317.19</td>\n",
       "      <td>0.40</td>\n",
       "      <td>0.88</td>\n",
       "      <td>157.0</td>\n",
       "    </tr>\n",
       "    <tr>\n",
       "      <th>...</th>\n",
       "      <td>...</td>\n",
       "      <td>...</td>\n",
       "      <td>...</td>\n",
       "      <td>...</td>\n",
       "      <td>...</td>\n",
       "      <td>...</td>\n",
       "      <td>...</td>\n",
       "      <td>...</td>\n",
       "      <td>...</td>\n",
       "      <td>...</td>\n",
       "      <td>...</td>\n",
       "      <td>...</td>\n",
       "      <td>...</td>\n",
       "      <td>...</td>\n",
       "      <td>...</td>\n",
       "    </tr>\n",
       "    <tr>\n",
       "      <th>420521</th>\n",
       "      <td>31.12.2016 19:10:00</td>\n",
       "      <td>1002.18</td>\n",
       "      <td>-0.98</td>\n",
       "      <td>272.01</td>\n",
       "      <td>-5.36</td>\n",
       "      <td>72.00</td>\n",
       "      <td>5.69</td>\n",
       "      <td>4.09</td>\n",
       "      <td>1.59</td>\n",
       "      <td>2.54</td>\n",
       "      <td>4.08</td>\n",
       "      <td>1280.70</td>\n",
       "      <td>0.87</td>\n",
       "      <td>1.36</td>\n",
       "      <td>190.6</td>\n",
       "    </tr>\n",
       "    <tr>\n",
       "      <th>420527</th>\n",
       "      <td>31.12.2016 20:10:00</td>\n",
       "      <td>1001.40</td>\n",
       "      <td>-1.40</td>\n",
       "      <td>271.66</td>\n",
       "      <td>-6.84</td>\n",
       "      <td>66.29</td>\n",
       "      <td>5.51</td>\n",
       "      <td>3.65</td>\n",
       "      <td>1.86</td>\n",
       "      <td>2.27</td>\n",
       "      <td>3.65</td>\n",
       "      <td>1281.87</td>\n",
       "      <td>1.02</td>\n",
       "      <td>1.92</td>\n",
       "      <td>225.4</td>\n",
       "    </tr>\n",
       "    <tr>\n",
       "      <th>420533</th>\n",
       "      <td>31.12.2016 21:10:00</td>\n",
       "      <td>1001.19</td>\n",
       "      <td>-2.75</td>\n",
       "      <td>270.32</td>\n",
       "      <td>-6.90</td>\n",
       "      <td>72.90</td>\n",
       "      <td>4.99</td>\n",
       "      <td>3.64</td>\n",
       "      <td>1.35</td>\n",
       "      <td>2.26</td>\n",
       "      <td>3.63</td>\n",
       "      <td>1288.02</td>\n",
       "      <td>0.71</td>\n",
       "      <td>1.56</td>\n",
       "      <td>158.7</td>\n",
       "    </tr>\n",
       "    <tr>\n",
       "      <th>420539</th>\n",
       "      <td>31.12.2016 22:10:00</td>\n",
       "      <td>1000.65</td>\n",
       "      <td>-2.89</td>\n",
       "      <td>270.22</td>\n",
       "      <td>-7.15</td>\n",
       "      <td>72.30</td>\n",
       "      <td>4.93</td>\n",
       "      <td>3.57</td>\n",
       "      <td>1.37</td>\n",
       "      <td>2.22</td>\n",
       "      <td>3.57</td>\n",
       "      <td>1288.03</td>\n",
       "      <td>0.35</td>\n",
       "      <td>0.68</td>\n",
       "      <td>216.7</td>\n",
       "    </tr>\n",
       "    <tr>\n",
       "      <th>420545</th>\n",
       "      <td>31.12.2016 23:10:00</td>\n",
       "      <td>1000.11</td>\n",
       "      <td>-3.93</td>\n",
       "      <td>269.23</td>\n",
       "      <td>-8.09</td>\n",
       "      <td>72.60</td>\n",
       "      <td>4.56</td>\n",
       "      <td>3.31</td>\n",
       "      <td>1.25</td>\n",
       "      <td>2.06</td>\n",
       "      <td>3.31</td>\n",
       "      <td>1292.41</td>\n",
       "      <td>0.56</td>\n",
       "      <td>1.00</td>\n",
       "      <td>202.6</td>\n",
       "    </tr>\n",
       "  </tbody>\n",
       "</table>\n",
       "<p>70091 rows × 15 columns</p>\n",
       "</div>"
      ],
      "text/plain": [
       "                  Date Time  p (mbar)  T (degC)  Tpot (K)  Tdew (degC)  \\\n",
       "5       01.01.2009 01:00:00    996.50     -8.05    265.38        -8.78   \n",
       "11      01.01.2009 02:00:00    996.62     -8.88    264.54        -9.77   \n",
       "17      01.01.2009 03:00:00    996.84     -8.81    264.59        -9.66   \n",
       "23      01.01.2009 04:00:00    996.99     -9.05    264.34       -10.02   \n",
       "29      01.01.2009 05:00:00    997.46     -9.63    263.72       -10.65   \n",
       "...                     ...       ...       ...       ...          ...   \n",
       "420521  31.12.2016 19:10:00   1002.18     -0.98    272.01        -5.36   \n",
       "420527  31.12.2016 20:10:00   1001.40     -1.40    271.66        -6.84   \n",
       "420533  31.12.2016 21:10:00   1001.19     -2.75    270.32        -6.90   \n",
       "420539  31.12.2016 22:10:00   1000.65     -2.89    270.22        -7.15   \n",
       "420545  31.12.2016 23:10:00   1000.11     -3.93    269.23        -8.09   \n",
       "\n",
       "        rh (%)  VPmax (mbar)  VPact (mbar)  VPdef (mbar)  sh (g/kg)  \\\n",
       "5        94.40          3.33          3.14          0.19       1.96   \n",
       "11       93.20          3.12          2.90          0.21       1.81   \n",
       "17       93.50          3.13          2.93          0.20       1.83   \n",
       "23       92.60          3.07          2.85          0.23       1.78   \n",
       "29       92.20          2.94          2.71          0.23       1.69   \n",
       "...        ...           ...           ...           ...        ...   \n",
       "420521   72.00          5.69          4.09          1.59       2.54   \n",
       "420527   66.29          5.51          3.65          1.86       2.27   \n",
       "420533   72.90          4.99          3.64          1.35       2.26   \n",
       "420539   72.30          4.93          3.57          1.37       2.22   \n",
       "420545   72.60          4.56          3.31          1.25       2.06   \n",
       "\n",
       "        H2OC (mmol/mol)  rho (g/m**3)  wv (m/s)  max. wv (m/s)  wd (deg)  \n",
       "5                  3.15       1307.86      0.21           0.63     192.7  \n",
       "11                 2.91       1312.25      0.25           0.63     190.3  \n",
       "17                 2.94       1312.18      0.18           0.63     167.2  \n",
       "23                 2.85       1313.61      0.10           0.38     240.0  \n",
       "29                 2.71       1317.19      0.40           0.88     157.0  \n",
       "...                 ...           ...       ...            ...       ...  \n",
       "420521             4.08       1280.70      0.87           1.36     190.6  \n",
       "420527             3.65       1281.87      1.02           1.92     225.4  \n",
       "420533             3.63       1288.02      0.71           1.56     158.7  \n",
       "420539             3.57       1288.03      0.35           0.68     216.7  \n",
       "420545             3.31       1292.41      0.56           1.00     202.6  \n",
       "\n",
       "[70091 rows x 15 columns]"
      ]
     },
     "execution_count": 57,
     "metadata": {},
     "output_type": "execute_result"
    }
   ],
   "source": [
    "data = data[5::6]\n",
    "data"
   ]
  },
  {
   "cell_type": "code",
   "execution_count": 58,
   "metadata": {},
   "outputs": [
    {
     "data": {
      "text/html": [
       "<div>\n",
       "<style scoped>\n",
       "    .dataframe tbody tr th:only-of-type {\n",
       "        vertical-align: middle;\n",
       "    }\n",
       "\n",
       "    .dataframe tbody tr th {\n",
       "        vertical-align: top;\n",
       "    }\n",
       "\n",
       "    .dataframe thead th {\n",
       "        text-align: right;\n",
       "    }\n",
       "</style>\n",
       "<table border=\"1\" class=\"dataframe\">\n",
       "  <thead>\n",
       "    <tr style=\"text-align: right;\">\n",
       "      <th></th>\n",
       "      <th>Date Time</th>\n",
       "      <th>p (mbar)</th>\n",
       "      <th>T (degC)</th>\n",
       "      <th>Tpot (K)</th>\n",
       "      <th>Tdew (degC)</th>\n",
       "      <th>rh (%)</th>\n",
       "      <th>VPmax (mbar)</th>\n",
       "      <th>VPact (mbar)</th>\n",
       "      <th>VPdef (mbar)</th>\n",
       "      <th>sh (g/kg)</th>\n",
       "      <th>H2OC (mmol/mol)</th>\n",
       "      <th>rho (g/m**3)</th>\n",
       "      <th>wv (m/s)</th>\n",
       "      <th>max. wv (m/s)</th>\n",
       "      <th>wd (deg)</th>\n",
       "    </tr>\n",
       "    <tr>\n",
       "      <th>Date Time</th>\n",
       "      <th></th>\n",
       "      <th></th>\n",
       "      <th></th>\n",
       "      <th></th>\n",
       "      <th></th>\n",
       "      <th></th>\n",
       "      <th></th>\n",
       "      <th></th>\n",
       "      <th></th>\n",
       "      <th></th>\n",
       "      <th></th>\n",
       "      <th></th>\n",
       "      <th></th>\n",
       "      <th></th>\n",
       "      <th></th>\n",
       "    </tr>\n",
       "  </thead>\n",
       "  <tbody>\n",
       "    <tr>\n",
       "      <th>2009-01-01 01:00:00</th>\n",
       "      <td>01.01.2009 01:00:00</td>\n",
       "      <td>996.50</td>\n",
       "      <td>-8.05</td>\n",
       "      <td>265.38</td>\n",
       "      <td>-8.78</td>\n",
       "      <td>94.4</td>\n",
       "      <td>3.33</td>\n",
       "      <td>3.14</td>\n",
       "      <td>0.19</td>\n",
       "      <td>1.96</td>\n",
       "      <td>3.15</td>\n",
       "      <td>1307.86</td>\n",
       "      <td>0.21</td>\n",
       "      <td>0.63</td>\n",
       "      <td>192.7</td>\n",
       "    </tr>\n",
       "    <tr>\n",
       "      <th>2009-01-01 02:00:00</th>\n",
       "      <td>01.01.2009 02:00:00</td>\n",
       "      <td>996.62</td>\n",
       "      <td>-8.88</td>\n",
       "      <td>264.54</td>\n",
       "      <td>-9.77</td>\n",
       "      <td>93.2</td>\n",
       "      <td>3.12</td>\n",
       "      <td>2.90</td>\n",
       "      <td>0.21</td>\n",
       "      <td>1.81</td>\n",
       "      <td>2.91</td>\n",
       "      <td>1312.25</td>\n",
       "      <td>0.25</td>\n",
       "      <td>0.63</td>\n",
       "      <td>190.3</td>\n",
       "    </tr>\n",
       "    <tr>\n",
       "      <th>2009-01-01 03:00:00</th>\n",
       "      <td>01.01.2009 03:00:00</td>\n",
       "      <td>996.84</td>\n",
       "      <td>-8.81</td>\n",
       "      <td>264.59</td>\n",
       "      <td>-9.66</td>\n",
       "      <td>93.5</td>\n",
       "      <td>3.13</td>\n",
       "      <td>2.93</td>\n",
       "      <td>0.20</td>\n",
       "      <td>1.83</td>\n",
       "      <td>2.94</td>\n",
       "      <td>1312.18</td>\n",
       "      <td>0.18</td>\n",
       "      <td>0.63</td>\n",
       "      <td>167.2</td>\n",
       "    </tr>\n",
       "    <tr>\n",
       "      <th>2009-01-01 04:00:00</th>\n",
       "      <td>01.01.2009 04:00:00</td>\n",
       "      <td>996.99</td>\n",
       "      <td>-9.05</td>\n",
       "      <td>264.34</td>\n",
       "      <td>-10.02</td>\n",
       "      <td>92.6</td>\n",
       "      <td>3.07</td>\n",
       "      <td>2.85</td>\n",
       "      <td>0.23</td>\n",
       "      <td>1.78</td>\n",
       "      <td>2.85</td>\n",
       "      <td>1313.61</td>\n",
       "      <td>0.10</td>\n",
       "      <td>0.38</td>\n",
       "      <td>240.0</td>\n",
       "    </tr>\n",
       "    <tr>\n",
       "      <th>2009-01-01 05:00:00</th>\n",
       "      <td>01.01.2009 05:00:00</td>\n",
       "      <td>997.46</td>\n",
       "      <td>-9.63</td>\n",
       "      <td>263.72</td>\n",
       "      <td>-10.65</td>\n",
       "      <td>92.2</td>\n",
       "      <td>2.94</td>\n",
       "      <td>2.71</td>\n",
       "      <td>0.23</td>\n",
       "      <td>1.69</td>\n",
       "      <td>2.71</td>\n",
       "      <td>1317.19</td>\n",
       "      <td>0.40</td>\n",
       "      <td>0.88</td>\n",
       "      <td>157.0</td>\n",
       "    </tr>\n",
       "    <tr>\n",
       "      <th>2009-01-01 06:00:00</th>\n",
       "      <td>01.01.2009 06:00:00</td>\n",
       "      <td>997.71</td>\n",
       "      <td>-9.67</td>\n",
       "      <td>263.66</td>\n",
       "      <td>-10.62</td>\n",
       "      <td>92.7</td>\n",
       "      <td>2.93</td>\n",
       "      <td>2.71</td>\n",
       "      <td>0.21</td>\n",
       "      <td>1.69</td>\n",
       "      <td>2.72</td>\n",
       "      <td>1317.71</td>\n",
       "      <td>0.05</td>\n",
       "      <td>0.50</td>\n",
       "      <td>146.0</td>\n",
       "    </tr>\n",
       "    <tr>\n",
       "      <th>2009-01-01 07:00:00</th>\n",
       "      <td>01.01.2009 07:00:00</td>\n",
       "      <td>998.33</td>\n",
       "      <td>-9.17</td>\n",
       "      <td>264.12</td>\n",
       "      <td>-10.10</td>\n",
       "      <td>92.9</td>\n",
       "      <td>3.04</td>\n",
       "      <td>2.83</td>\n",
       "      <td>0.22</td>\n",
       "      <td>1.76</td>\n",
       "      <td>2.83</td>\n",
       "      <td>1315.98</td>\n",
       "      <td>2.08</td>\n",
       "      <td>2.88</td>\n",
       "      <td>348.8</td>\n",
       "    </tr>\n",
       "    <tr>\n",
       "      <th>2009-01-01 08:00:00</th>\n",
       "      <td>01.01.2009 08:00:00</td>\n",
       "      <td>999.17</td>\n",
       "      <td>-8.10</td>\n",
       "      <td>265.12</td>\n",
       "      <td>-9.05</td>\n",
       "      <td>92.8</td>\n",
       "      <td>3.31</td>\n",
       "      <td>3.07</td>\n",
       "      <td>0.24</td>\n",
       "      <td>1.92</td>\n",
       "      <td>3.08</td>\n",
       "      <td>1311.65</td>\n",
       "      <td>0.72</td>\n",
       "      <td>1.25</td>\n",
       "      <td>213.9</td>\n",
       "    </tr>\n",
       "    <tr>\n",
       "      <th>2009-01-01 09:00:00</th>\n",
       "      <td>01.01.2009 09:00:00</td>\n",
       "      <td>999.69</td>\n",
       "      <td>-7.66</td>\n",
       "      <td>265.52</td>\n",
       "      <td>-8.84</td>\n",
       "      <td>91.2</td>\n",
       "      <td>3.43</td>\n",
       "      <td>3.13</td>\n",
       "      <td>0.30</td>\n",
       "      <td>1.95</td>\n",
       "      <td>3.13</td>\n",
       "      <td>1310.14</td>\n",
       "      <td>0.34</td>\n",
       "      <td>0.63</td>\n",
       "      <td>202.2</td>\n",
       "    </tr>\n",
       "    <tr>\n",
       "      <th>2009-01-01 10:00:00</th>\n",
       "      <td>01.01.2009 10:00:00</td>\n",
       "      <td>1000.27</td>\n",
       "      <td>-7.04</td>\n",
       "      <td>266.10</td>\n",
       "      <td>-8.17</td>\n",
       "      <td>91.6</td>\n",
       "      <td>3.60</td>\n",
       "      <td>3.30</td>\n",
       "      <td>0.30</td>\n",
       "      <td>2.05</td>\n",
       "      <td>3.29</td>\n",
       "      <td>1307.76</td>\n",
       "      <td>1.45</td>\n",
       "      <td>3.00</td>\n",
       "      <td>292.6</td>\n",
       "    </tr>\n",
       "    <tr>\n",
       "      <th>2009-01-01 11:00:00</th>\n",
       "      <td>01.01.2009 11:00:00</td>\n",
       "      <td>1000.87</td>\n",
       "      <td>-7.41</td>\n",
       "      <td>265.68</td>\n",
       "      <td>-8.66</td>\n",
       "      <td>90.7</td>\n",
       "      <td>3.50</td>\n",
       "      <td>3.17</td>\n",
       "      <td>0.33</td>\n",
       "      <td>1.97</td>\n",
       "      <td>3.17</td>\n",
       "      <td>1310.43</td>\n",
       "      <td>1.91</td>\n",
       "      <td>3.38</td>\n",
       "      <td>269.6</td>\n",
       "    </tr>\n",
       "    <tr>\n",
       "      <th>2009-01-01 12:00:00</th>\n",
       "      <td>01.01.2009 12:00:00</td>\n",
       "      <td>1000.30</td>\n",
       "      <td>-6.87</td>\n",
       "      <td>266.27</td>\n",
       "      <td>-8.28</td>\n",
       "      <td>89.6</td>\n",
       "      <td>3.64</td>\n",
       "      <td>3.27</td>\n",
       "      <td>0.38</td>\n",
       "      <td>2.03</td>\n",
       "      <td>3.26</td>\n",
       "      <td>1306.98</td>\n",
       "      <td>1.84</td>\n",
       "      <td>2.63</td>\n",
       "      <td>184.4</td>\n",
       "    </tr>\n",
       "  </tbody>\n",
       "</table>\n",
       "</div>"
      ],
      "text/plain": [
       "                               Date Time  p (mbar)  T (degC)  Tpot (K)  \\\n",
       "Date Time                                                                \n",
       "2009-01-01 01:00:00  01.01.2009 01:00:00    996.50     -8.05    265.38   \n",
       "2009-01-01 02:00:00  01.01.2009 02:00:00    996.62     -8.88    264.54   \n",
       "2009-01-01 03:00:00  01.01.2009 03:00:00    996.84     -8.81    264.59   \n",
       "2009-01-01 04:00:00  01.01.2009 04:00:00    996.99     -9.05    264.34   \n",
       "2009-01-01 05:00:00  01.01.2009 05:00:00    997.46     -9.63    263.72   \n",
       "2009-01-01 06:00:00  01.01.2009 06:00:00    997.71     -9.67    263.66   \n",
       "2009-01-01 07:00:00  01.01.2009 07:00:00    998.33     -9.17    264.12   \n",
       "2009-01-01 08:00:00  01.01.2009 08:00:00    999.17     -8.10    265.12   \n",
       "2009-01-01 09:00:00  01.01.2009 09:00:00    999.69     -7.66    265.52   \n",
       "2009-01-01 10:00:00  01.01.2009 10:00:00   1000.27     -7.04    266.10   \n",
       "2009-01-01 11:00:00  01.01.2009 11:00:00   1000.87     -7.41    265.68   \n",
       "2009-01-01 12:00:00  01.01.2009 12:00:00   1000.30     -6.87    266.27   \n",
       "\n",
       "                     Tdew (degC)  rh (%)  VPmax (mbar)  VPact (mbar)  \\\n",
       "Date Time                                                              \n",
       "2009-01-01 01:00:00        -8.78    94.4          3.33          3.14   \n",
       "2009-01-01 02:00:00        -9.77    93.2          3.12          2.90   \n",
       "2009-01-01 03:00:00        -9.66    93.5          3.13          2.93   \n",
       "2009-01-01 04:00:00       -10.02    92.6          3.07          2.85   \n",
       "2009-01-01 05:00:00       -10.65    92.2          2.94          2.71   \n",
       "2009-01-01 06:00:00       -10.62    92.7          2.93          2.71   \n",
       "2009-01-01 07:00:00       -10.10    92.9          3.04          2.83   \n",
       "2009-01-01 08:00:00        -9.05    92.8          3.31          3.07   \n",
       "2009-01-01 09:00:00        -8.84    91.2          3.43          3.13   \n",
       "2009-01-01 10:00:00        -8.17    91.6          3.60          3.30   \n",
       "2009-01-01 11:00:00        -8.66    90.7          3.50          3.17   \n",
       "2009-01-01 12:00:00        -8.28    89.6          3.64          3.27   \n",
       "\n",
       "                     VPdef (mbar)  sh (g/kg)  H2OC (mmol/mol)  rho (g/m**3)  \\\n",
       "Date Time                                                                     \n",
       "2009-01-01 01:00:00          0.19       1.96             3.15       1307.86   \n",
       "2009-01-01 02:00:00          0.21       1.81             2.91       1312.25   \n",
       "2009-01-01 03:00:00          0.20       1.83             2.94       1312.18   \n",
       "2009-01-01 04:00:00          0.23       1.78             2.85       1313.61   \n",
       "2009-01-01 05:00:00          0.23       1.69             2.71       1317.19   \n",
       "2009-01-01 06:00:00          0.21       1.69             2.72       1317.71   \n",
       "2009-01-01 07:00:00          0.22       1.76             2.83       1315.98   \n",
       "2009-01-01 08:00:00          0.24       1.92             3.08       1311.65   \n",
       "2009-01-01 09:00:00          0.30       1.95             3.13       1310.14   \n",
       "2009-01-01 10:00:00          0.30       2.05             3.29       1307.76   \n",
       "2009-01-01 11:00:00          0.33       1.97             3.17       1310.43   \n",
       "2009-01-01 12:00:00          0.38       2.03             3.26       1306.98   \n",
       "\n",
       "                     wv (m/s)  max. wv (m/s)  wd (deg)  \n",
       "Date Time                                               \n",
       "2009-01-01 01:00:00      0.21           0.63     192.7  \n",
       "2009-01-01 02:00:00      0.25           0.63     190.3  \n",
       "2009-01-01 03:00:00      0.18           0.63     167.2  \n",
       "2009-01-01 04:00:00      0.10           0.38     240.0  \n",
       "2009-01-01 05:00:00      0.40           0.88     157.0  \n",
       "2009-01-01 06:00:00      0.05           0.50     146.0  \n",
       "2009-01-01 07:00:00      2.08           2.88     348.8  \n",
       "2009-01-01 08:00:00      0.72           1.25     213.9  \n",
       "2009-01-01 09:00:00      0.34           0.63     202.2  \n",
       "2009-01-01 10:00:00      1.45           3.00     292.6  \n",
       "2009-01-01 11:00:00      1.91           3.38     269.6  \n",
       "2009-01-01 12:00:00      1.84           2.63     184.4  "
      ]
     },
     "execution_count": 58,
     "metadata": {},
     "output_type": "execute_result"
    }
   ],
   "source": [
    "data.index = pd.to_datetime(data[\"Date Time\"], format = '%d.%m.%Y %H:%M:%S')\n",
    "data[:12]"
   ]
  },
  {
   "attachments": {},
   "cell_type": "markdown",
   "metadata": {},
   "source": [
    "# Univariate\n",
    "make data supervised (converting a foracasting problem to a supervised)"
   ]
  },
  {
   "cell_type": "code",
   "execution_count": 59,
   "metadata": {},
   "outputs": [
    {
     "data": {
      "text/plain": [
       "<AxesSubplot: xlabel='Date Time'>"
      ]
     },
     "execution_count": 59,
     "metadata": {},
     "output_type": "execute_result"
    },
    {
     "data": {
      "image/png": "[encoded data removed]",
      "text/plain": [
       "<Figure size 640x480 with 1 Axes>"
      ]
     },
     "metadata": {},
     "output_type": "display_data"
    }
   ],
   "source": [
    "temp = data[\"T (degC)\"]\n",
    "temp.plot()"
   ]
  },
  {
   "cell_type": "code",
   "execution_count": 60,
   "metadata": {},
   "outputs": [],
   "source": [
    "# [[[1], [2], [3], [4], [5]]] [6]   [[x]] [y]\n",
    "# [[[2], [3], [4], [5], [6]]] [7]   [[x]] [y]\n",
    "\n",
    "def df_to_x_y(df, window_size=5):\n",
    "  df_as_np = df.to_numpy()\n",
    "  X = []\n",
    "  y = []\n",
    "  for i in range(len(df_as_np)-window_size):\n",
    "    row = [[a] for a in df_as_np[i:i+window_size]]\n",
    "    X.append(row)\n",
    "    label = df_as_np[i+window_size]\n",
    "    y.append(label)\n",
    "  return np.array(X), np.array(y)"
   ]
  },
  {
   "cell_type": "code",
   "execution_count": 61,
   "metadata": {},
   "outputs": [
    {
     "name": "stdout",
     "output_type": "stream",
     "text": [
      "(70086, 5, 1) (70086,)\n"
     ]
    }
   ],
   "source": [
    "WINDOW_SIZE = 5\n",
    "x, y = df_to_x_y(temp, WINDOW_SIZE)\n",
    "print(x.shape, y.shape)"
   ]
  },
  {
   "cell_type": "code",
   "execution_count": 62,
   "metadata": {},
   "outputs": [
    {
     "name": "stdout",
     "output_type": "stream",
     "text": [
      "(60000, 5, 1) (60000,) (5000, 5, 1) (5000,) (5086, 5, 1) (5086,)\n"
     ]
    }
   ],
   "source": [
    "# split data into train, validation and test\n",
    "\n",
    "x_train, y_train = x[:60000], y[:60000]\n",
    "x_val, y_val = x[60000:65000], y[60000:65000]\n",
    "x_test, y_test = x[65000:], y[65000:]\n",
    "print(x_train.shape, y_train.shape, x_val.shape, y_val.shape, x_test.shape, y_test.shape)"
   ]
  },
  {
   "cell_type": "code",
   "execution_count": 63,
   "metadata": {},
   "outputs": [
    {
     "name": "stdout",
     "output_type": "stream",
     "text": [
      "Model: \"sequential_4\"\n",
      "_________________________________________________________________\n",
      " Layer (type)                Output Shape              Param #   \n",
      "=================================================================\n",
      " lstm_2 (LSTM)               (None, 64)                16896     \n",
      "                                                                 \n",
      " dense_8 (Dense)             (None, 8)                 520       \n",
      "                                                                 \n",
      " dense_9 (Dense)             (None, 1)                 9         \n",
      "                                                                 \n",
      "=================================================================\n",
      "Total params: 17,425\n",
      "Trainable params: 17,425\n",
      "Non-trainable params: 0\n",
      "_________________________________________________________________\n"
     ]
    }
   ],
   "source": [
    "from tensorflow.keras.models import Sequential\n",
    "from tensorflow.keras.layers import *\n",
    "from tensorflow.keras.callbacks import ModelCheckpoint\n",
    "from tensorflow.keras.losses import MeanSquaredError\n",
    "from tensorflow.keras.metrics import RootMeanSquaredError\n",
    "from tensorflow.keras.optimizers import Adam\n",
    "\n",
    "model1 = Sequential()\n",
    "\n",
    "model1.add(InputLayer((5, 1)))\n",
    "model1.add(LSTM(64))\n",
    "model1.add(Dense(8, \"relu\"))\n",
    "model1.add(Dense(1, \"linear\"))\n",
    "\n",
    "model1.summary()"
   ]
  },
  {
   "cell_type": "code",
   "execution_count": 64,
   "metadata": {},
   "outputs": [],
   "source": [
    "cp = ModelCheckpoint(\"model1/\", save_best_only = True)\n",
    "model1.compile(loss = MeanSquaredError(), optimizer = Adam(learning_rate = 0.0001), metrics = [RootMeanSquaredError()])"
   ]
  },
  {
   "cell_type": "code",
   "execution_count": 65,
   "metadata": {},
   "outputs": [
    {
     "name": "stdout",
     "output_type": "stream",
     "text": [
      "Epoch 1/10\n",
      "1866/1875 [============================>.] - ETA: 0s - loss: 80.4388 - root_mean_squared_error: 8.9688"
     ]
    },
    {
     "name": "stderr",
     "output_type": "stream",
     "text": [
      "WARNING:absl:Found untraced functions such as _update_step_xla, lstm_cell_3_layer_call_fn, lstm_cell_3_layer_call_and_return_conditional_losses while saving (showing 3 of 3). These functions will not be directly callable after loading.\n"
     ]
    },
    {
     "name": "stdout",
     "output_type": "stream",
     "text": [
      "INFO:tensorflow:Assets written to: model1\\assets\n"
     ]
    },
    {
     "name": "stderr",
     "output_type": "stream",
     "text": [
      "INFO:tensorflow:Assets written to: model1\\assets\n"
     ]
    },
    {
     "name": "stdout",
     "output_type": "stream",
     "text": [
      "1875/1875 [==============================] - 14s 6ms/step - loss: 80.1764 - root_mean_squared_error: 8.9541 - val_loss: 5.3903 - val_root_mean_squared_error: 2.3217\n",
      "Epoch 2/10\n",
      "1869/1875 [============================>.] - ETA: 0s - loss: 9.0927 - root_mean_squared_error: 3.0154"
     ]
    },
    {
     "name": "stderr",
     "output_type": "stream",
     "text": [
      "WARNING:absl:Found untraced functions such as _update_step_xla, lstm_cell_3_layer_call_fn, lstm_cell_3_layer_call_and_return_conditional_losses while saving (showing 3 of 3). These functions will not be directly callable after loading.\n"
     ]
    },
    {
     "name": "stdout",
     "output_type": "stream",
     "text": [
      "INFO:tensorflow:Assets written to: model1\\assets\n"
     ]
    },
    {
     "name": "stderr",
     "output_type": "stream",
     "text": [
      "INFO:tensorflow:Assets written to: model1\\assets\n"
     ]
    },
    {
     "name": "stdout",
     "output_type": "stream",
     "text": [
      "1875/1875 [==============================] - 11s 6ms/step - loss: 9.0728 - root_mean_squared_error: 3.0121 - val_loss: 0.8995 - val_root_mean_squared_error: 0.9484\n",
      "Epoch 3/10\n",
      "1874/1875 [============================>.] - ETA: 0s - loss: 1.9722 - root_mean_squared_error: 1.4043"
     ]
    },
    {
     "name": "stderr",
     "output_type": "stream",
     "text": [
      "WARNING:absl:Found untraced functions such as _update_step_xla, lstm_cell_3_layer_call_fn, lstm_cell_3_layer_call_and_return_conditional_losses while saving (showing 3 of 3). These functions will not be directly callable after loading.\n"
     ]
    },
    {
     "name": "stdout",
     "output_type": "stream",
     "text": [
      "INFO:tensorflow:Assets written to: model1\\assets\n"
     ]
    },
    {
     "name": "stderr",
     "output_type": "stream",
     "text": [
      "INFO:tensorflow:Assets written to: model1\\assets\n"
     ]
    },
    {
     "name": "stdout",
     "output_type": "stream",
     "text": [
      "1875/1875 [==============================] - 11s 6ms/step - loss: 1.9713 - root_mean_squared_error: 1.4040 - val_loss: 0.6190 - val_root_mean_squared_error: 0.7868\n",
      "Epoch 4/10\n",
      "1863/1875 [============================>.] - ETA: 0s - loss: 0.9646 - root_mean_squared_error: 0.9822"
     ]
    },
    {
     "name": "stderr",
     "output_type": "stream",
     "text": [
      "WARNING:absl:Found untraced functions such as _update_step_xla, lstm_cell_3_layer_call_fn, lstm_cell_3_layer_call_and_return_conditional_losses while saving (showing 3 of 3). These functions will not be directly callable after loading.\n"
     ]
    },
    {
     "name": "stdout",
     "output_type": "stream",
     "text": [
      "INFO:tensorflow:Assets written to: model1\\assets\n"
     ]
    },
    {
     "name": "stderr",
     "output_type": "stream",
     "text": [
      "INFO:tensorflow:Assets written to: model1\\assets\n"
     ]
    },
    {
     "name": "stdout",
     "output_type": "stream",
     "text": [
      "1875/1875 [==============================] - 13s 7ms/step - loss: 0.9644 - root_mean_squared_error: 0.9820 - val_loss: 0.5429 - val_root_mean_squared_error: 0.7368\n",
      "Epoch 5/10\n",
      "1869/1875 [============================>.] - ETA: 0s - loss: 0.7435 - root_mean_squared_error: 0.8623"
     ]
    },
    {
     "name": "stderr",
     "output_type": "stream",
     "text": [
      "WARNING:absl:Found untraced functions such as _update_step_xla, lstm_cell_3_layer_call_fn, lstm_cell_3_layer_call_and_return_conditional_losses while saving (showing 3 of 3). These functions will not be directly callable after loading.\n"
     ]
    },
    {
     "name": "stdout",
     "output_type": "stream",
     "text": [
      "INFO:tensorflow:Assets written to: model1\\assets\n"
     ]
    },
    {
     "name": "stderr",
     "output_type": "stream",
     "text": [
      "INFO:tensorflow:Assets written to: model1\\assets\n"
     ]
    },
    {
     "name": "stdout",
     "output_type": "stream",
     "text": [
      "1875/1875 [==============================] - 11s 6ms/step - loss: 0.7431 - root_mean_squared_error: 0.8620 - val_loss: 0.5284 - val_root_mean_squared_error: 0.7269\n",
      "Epoch 6/10\n",
      "1875/1875 [==============================] - 8s 4ms/step - loss: 0.6819 - root_mean_squared_error: 0.8258 - val_loss: 0.5423 - val_root_mean_squared_error: 0.7364\n",
      "Epoch 7/10\n",
      "1872/1875 [============================>.] - ETA: 0s - loss: 0.6610 - root_mean_squared_error: 0.8130"
     ]
    },
    {
     "name": "stderr",
     "output_type": "stream",
     "text": [
      "WARNING:absl:Found untraced functions such as _update_step_xla, lstm_cell_3_layer_call_fn, lstm_cell_3_layer_call_and_return_conditional_losses while saving (showing 3 of 3). These functions will not be directly callable after loading.\n"
     ]
    },
    {
     "name": "stdout",
     "output_type": "stream",
     "text": [
      "INFO:tensorflow:Assets written to: model1\\assets\n"
     ]
    },
    {
     "name": "stderr",
     "output_type": "stream",
     "text": [
      "INFO:tensorflow:Assets written to: model1\\assets\n"
     ]
    },
    {
     "name": "stdout",
     "output_type": "stream",
     "text": [
      "1875/1875 [==============================] - 11s 6ms/step - loss: 0.6612 - root_mean_squared_error: 0.8132 - val_loss: 0.5015 - val_root_mean_squared_error: 0.7082\n",
      "Epoch 8/10\n",
      "1874/1875 [============================>.] - ETA: 0s - loss: 0.6523 - root_mean_squared_error: 0.8077"
     ]
    },
    {
     "name": "stderr",
     "output_type": "stream",
     "text": [
      "WARNING:absl:Found untraced functions such as _update_step_xla, lstm_cell_3_layer_call_fn, lstm_cell_3_layer_call_and_return_conditional_losses while saving (showing 3 of 3). These functions will not be directly callable after loading.\n"
     ]
    },
    {
     "name": "stdout",
     "output_type": "stream",
     "text": [
      "INFO:tensorflow:Assets written to: model1\\assets\n"
     ]
    },
    {
     "name": "stderr",
     "output_type": "stream",
     "text": [
      "INFO:tensorflow:Assets written to: model1\\assets\n"
     ]
    },
    {
     "name": "stdout",
     "output_type": "stream",
     "text": [
      "1875/1875 [==============================] - 11s 6ms/step - loss: 0.6522 - root_mean_squared_error: 0.8076 - val_loss: 0.4923 - val_root_mean_squared_error: 0.7016\n",
      "Epoch 9/10\n",
      "1875/1875 [==============================] - 8s 4ms/step - loss: 0.6466 - root_mean_squared_error: 0.8041 - val_loss: 0.5037 - val_root_mean_squared_error: 0.7097\n",
      "Epoch 10/10\n",
      "1869/1875 [============================>.] - ETA: 0s - loss: 0.6445 - root_mean_squared_error: 0.8028"
     ]
    },
    {
     "name": "stderr",
     "output_type": "stream",
     "text": [
      "WARNING:absl:Found untraced functions such as _update_step_xla, lstm_cell_3_layer_call_fn, lstm_cell_3_layer_call_and_return_conditional_losses while saving (showing 3 of 3). These functions will not be directly callable after loading.\n"
     ]
    },
    {
     "name": "stdout",
     "output_type": "stream",
     "text": [
      "INFO:tensorflow:Assets written to: model1\\assets\n"
     ]
    },
    {
     "name": "stderr",
     "output_type": "stream",
     "text": [
      "INFO:tensorflow:Assets written to: model1\\assets\n"
     ]
    },
    {
     "name": "stdout",
     "output_type": "stream",
     "text": [
      "1875/1875 [==============================] - 11s 6ms/step - loss: 0.6439 - root_mean_squared_error: 0.8025 - val_loss: 0.4867 - val_root_mean_squared_error: 0.6977\n"
     ]
    },
    {
     "data": {
      "text/plain": [
       "<keras.callbacks.History at 0x205b2246070>"
      ]
     },
     "execution_count": 65,
     "metadata": {},
     "output_type": "execute_result"
    }
   ],
   "source": [
    "model1.fit(x_train, y_train, validation_data = (x_val, y_val), epochs = 10, callbacks = [cp])"
   ]
  },
  {
   "cell_type": "code",
   "execution_count": 66,
   "metadata": {},
   "outputs": [],
   "source": [
    "from tensorflow.keras.models import load_model\n",
    "model_1 = load_model(\"model1/\")"
   ]
  },
  {
   "cell_type": "code",
   "execution_count": 67,
   "metadata": {},
   "outputs": [
    {
     "name": "stdout",
     "output_type": "stream",
     "text": [
      "1875/1875 [==============================] - 4s 2ms/step\n"
     ]
    },
    {
     "data": {
      "text/html": [
       "<div>\n",
       "<style scoped>\n",
       "    .dataframe tbody tr th:only-of-type {\n",
       "        vertical-align: middle;\n",
       "    }\n",
       "\n",
       "    .dataframe tbody tr th {\n",
       "        vertical-align: top;\n",
       "    }\n",
       "\n",
       "    .dataframe thead th {\n",
       "        text-align: right;\n",
       "    }\n",
       "</style>\n",
       "<table border=\"1\" class=\"dataframe\">\n",
       "  <thead>\n",
       "    <tr style=\"text-align: right;\">\n",
       "      <th></th>\n",
       "      <th>Train Predictions</th>\n",
       "      <th>Actuals</th>\n",
       "    </tr>\n",
       "  </thead>\n",
       "  <tbody>\n",
       "    <tr>\n",
       "      <th>0</th>\n",
       "      <td>-9.903900</td>\n",
       "      <td>-9.67</td>\n",
       "    </tr>\n",
       "    <tr>\n",
       "      <th>1</th>\n",
       "      <td>-9.661753</td>\n",
       "      <td>-9.17</td>\n",
       "    </tr>\n",
       "    <tr>\n",
       "      <th>2</th>\n",
       "      <td>-8.772074</td>\n",
       "      <td>-8.10</td>\n",
       "    </tr>\n",
       "    <tr>\n",
       "      <th>3</th>\n",
       "      <td>-7.295777</td>\n",
       "      <td>-7.66</td>\n",
       "    </tr>\n",
       "    <tr>\n",
       "      <th>4</th>\n",
       "      <td>-7.178230</td>\n",
       "      <td>-7.04</td>\n",
       "    </tr>\n",
       "    <tr>\n",
       "      <th>...</th>\n",
       "      <td>...</td>\n",
       "      <td>...</td>\n",
       "    </tr>\n",
       "    <tr>\n",
       "      <th>59995</th>\n",
       "      <td>6.298147</td>\n",
       "      <td>6.07</td>\n",
       "    </tr>\n",
       "    <tr>\n",
       "      <th>59996</th>\n",
       "      <td>7.302809</td>\n",
       "      <td>9.88</td>\n",
       "    </tr>\n",
       "    <tr>\n",
       "      <th>59997</th>\n",
       "      <td>12.096709</td>\n",
       "      <td>13.53</td>\n",
       "    </tr>\n",
       "    <tr>\n",
       "      <th>59998</th>\n",
       "      <td>15.917591</td>\n",
       "      <td>15.43</td>\n",
       "    </tr>\n",
       "    <tr>\n",
       "      <th>59999</th>\n",
       "      <td>16.371300</td>\n",
       "      <td>15.54</td>\n",
       "    </tr>\n",
       "  </tbody>\n",
       "</table>\n",
       "<p>60000 rows × 2 columns</p>\n",
       "</div>"
      ],
      "text/plain": [
       "       Train Predictions  Actuals\n",
       "0              -9.903900    -9.67\n",
       "1              -9.661753    -9.17\n",
       "2              -8.772074    -8.10\n",
       "3              -7.295777    -7.66\n",
       "4              -7.178230    -7.04\n",
       "...                  ...      ...\n",
       "59995           6.298147     6.07\n",
       "59996           7.302809     9.88\n",
       "59997          12.096709    13.53\n",
       "59998          15.917591    15.43\n",
       "59999          16.371300    15.54\n",
       "\n",
       "[60000 rows x 2 columns]"
      ]
     },
     "execution_count": 67,
     "metadata": {},
     "output_type": "execute_result"
    }
   ],
   "source": [
    "train_predictions = model_1.predict(x_train).flatten()\n",
    "train_results = pd.DataFrame(data = {\"Train Predictions\" : train_predictions, \"Actuals\" : y_train})\n",
    "train_results"
   ]
  },
  {
   "cell_type": "code",
   "execution_count": 68,
   "metadata": {},
   "outputs": [
    {
     "data": {
      "text/plain": [
       "[<matplotlib.lines.Line2D at 0x205bddeca00>]"
      ]
     },
     "execution_count": 68,
     "metadata": {},
     "output_type": "execute_result"
    },
    {
     "data": {
      "image/png": "[encoded data removed]",
      "text/plain": [
       "<Figure size 640x480 with 1 Axes>"
      ]
     },
     "metadata": {},
     "output_type": "display_data"
    }
   ],
   "source": [
    "import matplotlib.pyplot as plt\n",
    "plt.plot(train_results[\"Train Predictions\"])\n",
    "plt.plot(train_results[\"Actuals\"])"
   ]
  },
  {
   "cell_type": "code",
   "execution_count": 69,
   "metadata": {},
   "outputs": [
    {
     "data": {
      "text/plain": [
       "[<matplotlib.lines.Line2D at 0x205bdd8c1c0>]"
      ]
     },
     "execution_count": 69,
     "metadata": {},
     "output_type": "execute_result"
    },
    {
     "data": {
      "image/png": "[encoded data removed]",
      "text/plain": [
       "<Figure size 640x480 with 1 Axes>"
      ]
     },
     "metadata": {},
     "output_type": "display_data"
    }
   ],
   "source": [
    "plt.plot(train_results[\"Train Predictions\"][200:300])\n",
    "plt.plot(train_results[\"Actuals\"][200:300])"
   ]
  },
  {
   "cell_type": "code",
   "execution_count": 70,
   "metadata": {},
   "outputs": [
    {
     "name": "stdout",
     "output_type": "stream",
     "text": [
      "157/157 [==============================] - 1s 2ms/step\n"
     ]
    },
    {
     "data": {
      "text/html": [
       "<div>\n",
       "<style scoped>\n",
       "    .dataframe tbody tr th:only-of-type {\n",
       "        vertical-align: middle;\n",
       "    }\n",
       "\n",
       "    .dataframe tbody tr th {\n",
       "        vertical-align: top;\n",
       "    }\n",
       "\n",
       "    .dataframe thead th {\n",
       "        text-align: right;\n",
       "    }\n",
       "</style>\n",
       "<table border=\"1\" class=\"dataframe\">\n",
       "  <thead>\n",
       "    <tr style=\"text-align: right;\">\n",
       "      <th></th>\n",
       "      <th>Val Predictions</th>\n",
       "      <th>Actuals</th>\n",
       "    </tr>\n",
       "  </thead>\n",
       "  <tbody>\n",
       "    <tr>\n",
       "      <th>0</th>\n",
       "      <td>15.472872</td>\n",
       "      <td>14.02</td>\n",
       "    </tr>\n",
       "    <tr>\n",
       "      <th>1</th>\n",
       "      <td>13.206808</td>\n",
       "      <td>13.67</td>\n",
       "    </tr>\n",
       "    <tr>\n",
       "      <th>2</th>\n",
       "      <td>13.012537</td>\n",
       "      <td>12.27</td>\n",
       "    </tr>\n",
       "    <tr>\n",
       "      <th>3</th>\n",
       "      <td>11.552157</td>\n",
       "      <td>11.19</td>\n",
       "    </tr>\n",
       "    <tr>\n",
       "      <th>4</th>\n",
       "      <td>10.471594</td>\n",
       "      <td>10.85</td>\n",
       "    </tr>\n",
       "    <tr>\n",
       "      <th>...</th>\n",
       "      <td>...</td>\n",
       "      <td>...</td>\n",
       "    </tr>\n",
       "    <tr>\n",
       "      <th>4995</th>\n",
       "      <td>17.354082</td>\n",
       "      <td>18.27</td>\n",
       "    </tr>\n",
       "    <tr>\n",
       "      <th>4996</th>\n",
       "      <td>17.384151</td>\n",
       "      <td>17.85</td>\n",
       "    </tr>\n",
       "    <tr>\n",
       "      <th>4997</th>\n",
       "      <td>17.293591</td>\n",
       "      <td>16.65</td>\n",
       "    </tr>\n",
       "    <tr>\n",
       "      <th>4998</th>\n",
       "      <td>15.823665</td>\n",
       "      <td>15.85</td>\n",
       "    </tr>\n",
       "    <tr>\n",
       "      <th>4999</th>\n",
       "      <td>15.035537</td>\n",
       "      <td>15.09</td>\n",
       "    </tr>\n",
       "  </tbody>\n",
       "</table>\n",
       "<p>5000 rows × 2 columns</p>\n",
       "</div>"
      ],
      "text/plain": [
       "      Val Predictions  Actuals\n",
       "0           15.472872    14.02\n",
       "1           13.206808    13.67\n",
       "2           13.012537    12.27\n",
       "3           11.552157    11.19\n",
       "4           10.471594    10.85\n",
       "...               ...      ...\n",
       "4995        17.354082    18.27\n",
       "4996        17.384151    17.85\n",
       "4997        17.293591    16.65\n",
       "4998        15.823665    15.85\n",
       "4999        15.035537    15.09\n",
       "\n",
       "[5000 rows x 2 columns]"
      ]
     },
     "execution_count": 70,
     "metadata": {},
     "output_type": "execute_result"
    }
   ],
   "source": [
    "val_predictions = model_1.predict(x_val).flatten()\n",
    "val_results = pd.DataFrame(data = {\"Val Predictions\" : val_predictions, \"Actuals\" : y_val})\n",
    "val_results"
   ]
  },
  {
   "cell_type": "code",
   "execution_count": 71,
   "metadata": {},
   "outputs": [
    {
     "data": {
      "text/plain": [
       "[<matplotlib.lines.Line2D at 0x205bdb13d00>]"
      ]
     },
     "execution_count": 71,
     "metadata": {},
     "output_type": "execute_result"
    },
    {
     "data": {
      "image/png": "[encoded data removed]",
      "text/plain": [
       "<Figure size 640x480 with 1 Axes>"
      ]
     },
     "metadata": {},
     "output_type": "display_data"
    }
   ],
   "source": [
    "plt.plot(val_results[\"Val Predictions\"][200:300])\n",
    "plt.plot(val_results[\"Actuals\"][200:300])"
   ]
  },
  {
   "cell_type": "code",
   "execution_count": 72,
   "metadata": {},
   "outputs": [
    {
     "name": "stdout",
     "output_type": "stream",
     "text": [
      "159/159 [==============================] - 0s 2ms/step\n"
     ]
    },
    {
     "data": {
      "text/html": [
       "<div>\n",
       "<style scoped>\n",
       "    .dataframe tbody tr th:only-of-type {\n",
       "        vertical-align: middle;\n",
       "    }\n",
       "\n",
       "    .dataframe tbody tr th {\n",
       "        vertical-align: top;\n",
       "    }\n",
       "\n",
       "    .dataframe thead th {\n",
       "        text-align: right;\n",
       "    }\n",
       "</style>\n",
       "<table border=\"1\" class=\"dataframe\">\n",
       "  <thead>\n",
       "    <tr style=\"text-align: right;\">\n",
       "      <th></th>\n",
       "      <th>Test Predictions</th>\n",
       "      <th>Actuals</th>\n",
       "    </tr>\n",
       "  </thead>\n",
       "  <tbody>\n",
       "    <tr>\n",
       "      <th>0</th>\n",
       "      <td>14.395132</td>\n",
       "      <td>13.99</td>\n",
       "    </tr>\n",
       "    <tr>\n",
       "      <th>1</th>\n",
       "      <td>13.255885</td>\n",
       "      <td>13.46</td>\n",
       "    </tr>\n",
       "    <tr>\n",
       "      <th>2</th>\n",
       "      <td>12.902228</td>\n",
       "      <td>12.93</td>\n",
       "    </tr>\n",
       "    <tr>\n",
       "      <th>3</th>\n",
       "      <td>12.511604</td>\n",
       "      <td>12.43</td>\n",
       "    </tr>\n",
       "    <tr>\n",
       "      <th>4</th>\n",
       "      <td>12.062855</td>\n",
       "      <td>12.17</td>\n",
       "    </tr>\n",
       "    <tr>\n",
       "      <th>...</th>\n",
       "      <td>...</td>\n",
       "      <td>...</td>\n",
       "    </tr>\n",
       "    <tr>\n",
       "      <th>5081</th>\n",
       "      <td>-1.082592</td>\n",
       "      <td>-0.98</td>\n",
       "    </tr>\n",
       "    <tr>\n",
       "      <th>5082</th>\n",
       "      <td>-1.501184</td>\n",
       "      <td>-1.40</td>\n",
       "    </tr>\n",
       "    <tr>\n",
       "      <th>5083</th>\n",
       "      <td>-1.611191</td>\n",
       "      <td>-2.75</td>\n",
       "    </tr>\n",
       "    <tr>\n",
       "      <th>5084</th>\n",
       "      <td>-3.106211</td>\n",
       "      <td>-2.89</td>\n",
       "    </tr>\n",
       "    <tr>\n",
       "      <th>5085</th>\n",
       "      <td>-3.077680</td>\n",
       "      <td>-3.93</td>\n",
       "    </tr>\n",
       "  </tbody>\n",
       "</table>\n",
       "<p>5086 rows × 2 columns</p>\n",
       "</div>"
      ],
      "text/plain": [
       "      Test Predictions  Actuals\n",
       "0            14.395132    13.99\n",
       "1            13.255885    13.46\n",
       "2            12.902228    12.93\n",
       "3            12.511604    12.43\n",
       "4            12.062855    12.17\n",
       "...                ...      ...\n",
       "5081         -1.082592    -0.98\n",
       "5082         -1.501184    -1.40\n",
       "5083         -1.611191    -2.75\n",
       "5084         -3.106211    -2.89\n",
       "5085         -3.077680    -3.93\n",
       "\n",
       "[5086 rows x 2 columns]"
      ]
     },
     "execution_count": 72,
     "metadata": {},
     "output_type": "execute_result"
    }
   ],
   "source": [
    "test_predictions = model_1.predict(x_test).flatten()\n",
    "test_results = pd.DataFrame(data = {\"Test Predictions\" : test_predictions, \"Actuals\" : y_test})\n",
    "test_results"
   ]
  },
  {
   "cell_type": "code",
   "execution_count": 73,
   "metadata": {},
   "outputs": [
    {
     "data": {
      "text/plain": [
       "[<matplotlib.lines.Line2D at 0x205bddb7580>]"
      ]
     },
     "execution_count": 73,
     "metadata": {},
     "output_type": "execute_result"
    },
    {
     "data": {
      "image/png": "[encoded data removed]",
      "text/plain": [
       "<Figure size 640x480 with 1 Axes>"
      ]
     },
     "metadata": {},
     "output_type": "display_data"
    }
   ],
   "source": [
    "plt.plot(test_results[\"Test Predictions\"][200:300])\n",
    "plt.plot(test_results[\"Actuals\"][200:300])"
   ]
  },
  {
   "cell_type": "code",
   "execution_count": 74,
   "metadata": {},
   "outputs": [],
   "source": [
    "from sklearn.metrics import mean_squared_error as mse\n",
    "\n",
    "def plot_predictions(model, x, y, start = 0, end = 100):\n",
    "    predictions = model.predict(x).flatten()\n",
    "    df = pd.DataFrame(data = {\"Predictions\" : predictions, \"Actuals\" : y})\n",
    "    plt.plot(df[\"Predictions\"][start:end])\n",
    "    plt.plot(df[\"Actuals\"][start:end])\n",
    "    return df, mse(y, predictions)"
   ]
  },
  {
   "cell_type": "code",
   "execution_count": 75,
   "metadata": {},
   "outputs": [
    {
     "name": "stdout",
     "output_type": "stream",
     "text": [
      "159/159 [==============================] - 0s 2ms/step\n"
     ]
    },
    {
     "data": {
      "text/plain": [
       "(      Predictions  Actuals\n",
       " 0       14.395132    13.99\n",
       " 1       13.255885    13.46\n",
       " 2       12.902228    12.93\n",
       " 3       12.511604    12.43\n",
       " 4       12.062855    12.17\n",
       " ...           ...      ...\n",
       " 5081    -1.082592    -0.98\n",
       " 5082    -1.501184    -1.40\n",
       " 5083    -1.611191    -2.75\n",
       " 5084    -3.106211    -2.89\n",
       " 5085    -3.077680    -3.93\n",
       " \n",
       " [5086 rows x 2 columns],\n",
       " 0.6204716947637898)"
      ]
     },
     "execution_count": 75,
     "metadata": {},
     "output_type": "execute_result"
    },
    {
     "data": {
      "image/png": "[encoded data removed]",
      "text/plain": [
       "<Figure size 640x480 with 1 Axes>"
      ]
     },
     "metadata": {},
     "output_type": "display_data"
    }
   ],
   "source": [
    "plot_predictions(model_1, x_test, y_test)"
   ]
  },
  {
   "attachments": {},
   "cell_type": "markdown",
   "metadata": {},
   "source": [
    "# CNN 1D"
   ]
  },
  {
   "cell_type": "code",
   "execution_count": 76,
   "metadata": {},
   "outputs": [
    {
     "name": "stdout",
     "output_type": "stream",
     "text": [
      "Model: \"sequential_5\"\n",
      "_________________________________________________________________\n",
      " Layer (type)                Output Shape              Param #   \n",
      "=================================================================\n",
      " conv1d_1 (Conv1D)           (None, 4, 64)             192       \n",
      "                                                                 \n",
      " flatten_1 (Flatten)         (None, 256)               0         \n",
      "                                                                 \n",
      " dense_10 (Dense)            (None, 8)                 2056      \n",
      "                                                                 \n",
      " dense_11 (Dense)            (None, 1)                 9         \n",
      "                                                                 \n",
      "=================================================================\n",
      "Total params: 2,257\n",
      "Trainable params: 2,257\n",
      "Non-trainable params: 0\n",
      "_________________________________________________________________\n"
     ]
    }
   ],
   "source": [
    "model2 = Sequential()\n",
    "model2.add(InputLayer((5, 1)))\n",
    "model2.add(Conv1D(64, kernel_size = 2))\n",
    "model2.add(Flatten())\n",
    "model2.add(Dense(8, \"relu\"))\n",
    "model2.add(Dense(1, \"linear\"))\n",
    "\n",
    "model2.summary()"
   ]
  },
  {
   "cell_type": "code",
   "execution_count": 77,
   "metadata": {},
   "outputs": [],
   "source": [
    "cp2 = ModelCheckpoint(\"model2/\", save_best_only = True)\n",
    "model2.compile(loss = MeanSquaredError(), optimizer = Adam(learning_rate = 0.0001), metrics = [RootMeanSquaredError()])"
   ]
  },
  {
   "cell_type": "code",
   "execution_count": 78,
   "metadata": {},
   "outputs": [
    {
     "name": "stdout",
     "output_type": "stream",
     "text": [
      "Epoch 1/10\n",
      "1858/1875 [============================>.] - ETA: 0s - loss: 16.8792 - root_mean_squared_error: 4.1084"
     ]
    },
    {
     "name": "stderr",
     "output_type": "stream",
     "text": [
      "WARNING:absl:Found untraced functions such as _jit_compiled_convolution_op, _update_step_xla while saving (showing 2 of 2). These functions will not be directly callable after loading.\n"
     ]
    },
    {
     "name": "stdout",
     "output_type": "stream",
     "text": [
      "INFO:tensorflow:Assets written to: model2\\assets\n"
     ]
    },
    {
     "name": "stderr",
     "output_type": "stream",
     "text": [
      "INFO:tensorflow:Assets written to: model2\\assets\n"
     ]
    },
    {
     "name": "stdout",
     "output_type": "stream",
     "text": [
      "1875/1875 [==============================] - 4s 2ms/step - loss: 16.7366 - root_mean_squared_error: 4.0910 - val_loss: 1.0786 - val_root_mean_squared_error: 1.0386\n",
      "Epoch 2/10\n",
      "1855/1875 [============================>.] - ETA: 0s - loss: 1.1973 - root_mean_squared_error: 1.0942"
     ]
    },
    {
     "name": "stderr",
     "output_type": "stream",
     "text": [
      "WARNING:absl:Found untraced functions such as _jit_compiled_convolution_op, _update_step_xla while saving (showing 2 of 2). These functions will not be directly callable after loading.\n"
     ]
    },
    {
     "name": "stdout",
     "output_type": "stream",
     "text": [
      "INFO:tensorflow:Assets written to: model2\\assets\n"
     ]
    },
    {
     "name": "stderr",
     "output_type": "stream",
     "text": [
      "INFO:tensorflow:Assets written to: model2\\assets\n"
     ]
    },
    {
     "name": "stdout",
     "output_type": "stream",
     "text": [
      "1875/1875 [==============================] - 4s 2ms/step - loss: 1.1971 - root_mean_squared_error: 1.0941 - val_loss: 0.8064 - val_root_mean_squared_error: 0.8980\n",
      "Epoch 3/10\n",
      "1836/1875 [============================>.] - ETA: 0s - loss: 0.9372 - root_mean_squared_error: 0.9681"
     ]
    },
    {
     "name": "stderr",
     "output_type": "stream",
     "text": [
      "WARNING:absl:Found untraced functions such as _jit_compiled_convolution_op, _update_step_xla while saving (showing 2 of 2). These functions will not be directly callable after loading.\n"
     ]
    },
    {
     "name": "stdout",
     "output_type": "stream",
     "text": [
      "INFO:tensorflow:Assets written to: model2\\assets\n"
     ]
    },
    {
     "name": "stderr",
     "output_type": "stream",
     "text": [
      "INFO:tensorflow:Assets written to: model2\\assets\n"
     ]
    },
    {
     "name": "stdout",
     "output_type": "stream",
     "text": [
      "1875/1875 [==============================] - 4s 2ms/step - loss: 0.9351 - root_mean_squared_error: 0.9670 - val_loss: 0.6408 - val_root_mean_squared_error: 0.8005\n",
      "Epoch 4/10\n",
      "1862/1875 [============================>.] - ETA: 0s - loss: 0.8039 - root_mean_squared_error: 0.8966"
     ]
    },
    {
     "name": "stderr",
     "output_type": "stream",
     "text": [
      "WARNING:absl:Found untraced functions such as _jit_compiled_convolution_op, _update_step_xla while saving (showing 2 of 2). These functions will not be directly callable after loading.\n"
     ]
    },
    {
     "name": "stdout",
     "output_type": "stream",
     "text": [
      "INFO:tensorflow:Assets written to: model2\\assets\n"
     ]
    },
    {
     "name": "stderr",
     "output_type": "stream",
     "text": [
      "INFO:tensorflow:Assets written to: model2\\assets\n"
     ]
    },
    {
     "name": "stdout",
     "output_type": "stream",
     "text": [
      "1875/1875 [==============================] - 3s 2ms/step - loss: 0.8038 - root_mean_squared_error: 0.8965 - val_loss: 0.6050 - val_root_mean_squared_error: 0.7778\n",
      "Epoch 5/10\n",
      "1854/1875 [============================>.] - ETA: 0s - loss: 0.7607 - root_mean_squared_error: 0.8722"
     ]
    },
    {
     "name": "stderr",
     "output_type": "stream",
     "text": [
      "WARNING:absl:Found untraced functions such as _jit_compiled_convolution_op, _update_step_xla while saving (showing 2 of 2). These functions will not be directly callable after loading.\n"
     ]
    },
    {
     "name": "stdout",
     "output_type": "stream",
     "text": [
      "INFO:tensorflow:Assets written to: model2\\assets\n"
     ]
    },
    {
     "name": "stderr",
     "output_type": "stream",
     "text": [
      "INFO:tensorflow:Assets written to: model2\\assets\n"
     ]
    },
    {
     "name": "stdout",
     "output_type": "stream",
     "text": [
      "1875/1875 [==============================] - 4s 2ms/step - loss: 0.7624 - root_mean_squared_error: 0.8732 - val_loss: 0.5637 - val_root_mean_squared_error: 0.7508\n",
      "Epoch 6/10\n",
      "1875/1875 [==============================] - ETA: 0s - loss: 0.7414 - root_mean_squared_error: 0.8611"
     ]
    },
    {
     "name": "stderr",
     "output_type": "stream",
     "text": [
      "WARNING:absl:Found untraced functions such as _jit_compiled_convolution_op, _update_step_xla while saving (showing 2 of 2). These functions will not be directly callable after loading.\n"
     ]
    },
    {
     "name": "stdout",
     "output_type": "stream",
     "text": [
      "INFO:tensorflow:Assets written to: model2\\assets\n"
     ]
    },
    {
     "name": "stderr",
     "output_type": "stream",
     "text": [
      "INFO:tensorflow:Assets written to: model2\\assets\n"
     ]
    },
    {
     "name": "stdout",
     "output_type": "stream",
     "text": [
      "1875/1875 [==============================] - 4s 2ms/step - loss: 0.7414 - root_mean_squared_error: 0.8611 - val_loss: 0.5498 - val_root_mean_squared_error: 0.7415\n",
      "Epoch 7/10\n",
      "1871/1875 [============================>.] - ETA: 0s - loss: 0.7279 - root_mean_squared_error: 0.8532"
     ]
    },
    {
     "name": "stderr",
     "output_type": "stream",
     "text": [
      "WARNING:absl:Found untraced functions such as _jit_compiled_convolution_op, _update_step_xla while saving (showing 2 of 2). These functions will not be directly callable after loading.\n"
     ]
    },
    {
     "name": "stdout",
     "output_type": "stream",
     "text": [
      "INFO:tensorflow:Assets written to: model2\\assets\n"
     ]
    },
    {
     "name": "stderr",
     "output_type": "stream",
     "text": [
      "INFO:tensorflow:Assets written to: model2\\assets\n"
     ]
    },
    {
     "name": "stdout",
     "output_type": "stream",
     "text": [
      "1875/1875 [==============================] - 3s 2ms/step - loss: 0.7282 - root_mean_squared_error: 0.8533 - val_loss: 0.5471 - val_root_mean_squared_error: 0.7397\n",
      "Epoch 8/10\n",
      "1875/1875 [==============================] - 3s 2ms/step - loss: 0.7218 - root_mean_squared_error: 0.8496 - val_loss: 0.5545 - val_root_mean_squared_error: 0.7446\n",
      "Epoch 9/10\n",
      "1844/1875 [============================>.] - ETA: 0s - loss: 0.7193 - root_mean_squared_error: 0.8481"
     ]
    },
    {
     "name": "stderr",
     "output_type": "stream",
     "text": [
      "WARNING:absl:Found untraced functions such as _jit_compiled_convolution_op, _update_step_xla while saving (showing 2 of 2). These functions will not be directly callable after loading.\n"
     ]
    },
    {
     "name": "stdout",
     "output_type": "stream",
     "text": [
      "INFO:tensorflow:Assets written to: model2\\assets\n"
     ]
    },
    {
     "name": "stderr",
     "output_type": "stream",
     "text": [
      "INFO:tensorflow:Assets written to: model2\\assets\n"
     ]
    },
    {
     "name": "stdout",
     "output_type": "stream",
     "text": [
      "1875/1875 [==============================] - 4s 2ms/step - loss: 0.7185 - root_mean_squared_error: 0.8476 - val_loss: 0.5360 - val_root_mean_squared_error: 0.7321\n",
      "Epoch 10/10\n",
      "1867/1875 [============================>.] - ETA: 0s - loss: 0.7112 - root_mean_squared_error: 0.8433"
     ]
    },
    {
     "name": "stderr",
     "output_type": "stream",
     "text": [
      "WARNING:absl:Found untraced functions such as _jit_compiled_convolution_op, _update_step_xla while saving (showing 2 of 2). These functions will not be directly callable after loading.\n"
     ]
    },
    {
     "name": "stdout",
     "output_type": "stream",
     "text": [
      "INFO:tensorflow:Assets written to: model2\\assets\n"
     ]
    },
    {
     "name": "stderr",
     "output_type": "stream",
     "text": [
      "INFO:tensorflow:Assets written to: model2\\assets\n"
     ]
    },
    {
     "name": "stdout",
     "output_type": "stream",
     "text": [
      "1875/1875 [==============================] - 3s 2ms/step - loss: 0.7118 - root_mean_squared_error: 0.8437 - val_loss: 0.5321 - val_root_mean_squared_error: 0.7294\n"
     ]
    },
    {
     "data": {
      "text/plain": [
       "<keras.callbacks.History at 0x205bda67310>"
      ]
     },
     "execution_count": 78,
     "metadata": {},
     "output_type": "execute_result"
    }
   ],
   "source": [
    "model2.fit(x_train, y_train, validation_data = (x_val, y_val), epochs = 10, callbacks = [cp2])"
   ]
  },
  {
   "cell_type": "code",
   "execution_count": 79,
   "metadata": {},
   "outputs": [
    {
     "name": "stdout",
     "output_type": "stream",
     "text": [
      "159/159 [==============================] - 0s 2ms/step\n"
     ]
    },
    {
     "data": {
      "text/plain": [
       "(      Predictions  Actuals\n",
       " 0       14.241706    13.99\n",
       " 1       13.078335    13.46\n",
       " 2       12.766290    12.93\n",
       " 3       12.344251    12.43\n",
       " 4       11.920774    12.17\n",
       " ...           ...      ...\n",
       " 5081    -1.757499    -0.98\n",
       " 5082    -1.599597    -1.40\n",
       " 5083    -2.126029    -2.75\n",
       " 5084    -4.218968    -2.89\n",
       " 5085    -3.186437    -3.93\n",
       " \n",
       " [5086 rows x 2 columns],\n",
       " 0.7395586572443205)"
      ]
     },
     "execution_count": 79,
     "metadata": {},
     "output_type": "execute_result"
    },
    {
     "data": {
      "image/png": "[encoded data removed]",
      "text/plain": [
       "<Figure size 640x480 with 1 Axes>"
      ]
     },
     "metadata": {},
     "output_type": "display_data"
    }
   ],
   "source": [
    "plot_predictions(model2, x_test, y_test)"
   ]
  },
  {
   "attachments": {},
   "cell_type": "markdown",
   "metadata": {},
   "source": [
    "# GRU"
   ]
  },
  {
   "cell_type": "code",
   "execution_count": 80,
   "metadata": {},
   "outputs": [
    {
     "name": "stdout",
     "output_type": "stream",
     "text": [
      "Model: \"sequential_6\"\n",
      "_________________________________________________________________\n",
      " Layer (type)                Output Shape              Param #   \n",
      "=================================================================\n",
      " gru_1 (GRU)                 (None, 64)                12864     \n",
      "                                                                 \n",
      " dense_12 (Dense)            (None, 8)                 520       \n",
      "                                                                 \n",
      " dense_13 (Dense)            (None, 1)                 9         \n",
      "                                                                 \n",
      "=================================================================\n",
      "Total params: 13,393\n",
      "Trainable params: 13,393\n",
      "Non-trainable params: 0\n",
      "_________________________________________________________________\n"
     ]
    }
   ],
   "source": [
    "model3 = Sequential()\n",
    "model3.add(InputLayer((5, 1)))\n",
    "model3.add(GRU(64))\n",
    "model3.add(Dense(8, \"relu\"))\n",
    "model3.add(Dense(1, \"linear\"))\n",
    "\n",
    "model3.summary()"
   ]
  },
  {
   "cell_type": "code",
   "execution_count": 81,
   "metadata": {},
   "outputs": [],
   "source": [
    "cp3 = ModelCheckpoint(\"model3/\", save_best_only = True)\n",
    "model3.compile(loss = MeanSquaredError(), optimizer = Adam(learning_rate = 0.0001), metrics = [RootMeanSquaredError()])"
   ]
  },
  {
   "cell_type": "code",
   "execution_count": 82,
   "metadata": {},
   "outputs": [
    {
     "name": "stdout",
     "output_type": "stream",
     "text": [
      "Epoch 1/10\n",
      "1867/1875 [============================>.] - ETA: 0s - loss: 32.8736 - root_mean_squared_error: 5.7336"
     ]
    },
    {
     "name": "stderr",
     "output_type": "stream",
     "text": [
      "WARNING:absl:Found untraced functions such as _update_step_xla, gru_cell_1_layer_call_fn, gru_cell_1_layer_call_and_return_conditional_losses while saving (showing 3 of 3). These functions will not be directly callable after loading.\n"
     ]
    },
    {
     "name": "stdout",
     "output_type": "stream",
     "text": [
      "INFO:tensorflow:Assets written to: model3\\assets\n"
     ]
    },
    {
     "name": "stderr",
     "output_type": "stream",
     "text": [
      "INFO:tensorflow:Assets written to: model3\\assets\n"
     ]
    },
    {
     "name": "stdout",
     "output_type": "stream",
     "text": [
      "1875/1875 [==============================] - 12s 6ms/step - loss: 32.7450 - root_mean_squared_error: 5.7223 - val_loss: 0.9446 - val_root_mean_squared_error: 0.9719\n",
      "Epoch 2/10\n",
      "1870/1875 [============================>.] - ETA: 0s - loss: 1.5140 - root_mean_squared_error: 1.2304"
     ]
    },
    {
     "name": "stderr",
     "output_type": "stream",
     "text": [
      "WARNING:absl:Found untraced functions such as _update_step_xla, gru_cell_1_layer_call_fn, gru_cell_1_layer_call_and_return_conditional_losses while saving (showing 3 of 3). These functions will not be directly callable after loading.\n"
     ]
    },
    {
     "name": "stdout",
     "output_type": "stream",
     "text": [
      "INFO:tensorflow:Assets written to: model3\\assets\n"
     ]
    },
    {
     "name": "stderr",
     "output_type": "stream",
     "text": [
      "INFO:tensorflow:Assets written to: model3\\assets\n"
     ]
    },
    {
     "name": "stdout",
     "output_type": "stream",
     "text": [
      "1875/1875 [==============================] - 10s 6ms/step - loss: 1.5118 - root_mean_squared_error: 1.2295 - val_loss: 0.6225 - val_root_mean_squared_error: 0.7890\n",
      "Epoch 3/10\n",
      "1874/1875 [============================>.] - ETA: 0s - loss: 0.8449 - root_mean_squared_error: 0.9192"
     ]
    },
    {
     "name": "stderr",
     "output_type": "stream",
     "text": [
      "WARNING:absl:Found untraced functions such as _update_step_xla, gru_cell_1_layer_call_fn, gru_cell_1_layer_call_and_return_conditional_losses while saving (showing 3 of 3). These functions will not be directly callable after loading.\n"
     ]
    },
    {
     "name": "stdout",
     "output_type": "stream",
     "text": [
      "INFO:tensorflow:Assets written to: model3\\assets\n"
     ]
    },
    {
     "name": "stderr",
     "output_type": "stream",
     "text": [
      "INFO:tensorflow:Assets written to: model3\\assets\n"
     ]
    },
    {
     "name": "stdout",
     "output_type": "stream",
     "text": [
      "1875/1875 [==============================] - 13s 7ms/step - loss: 0.8446 - root_mean_squared_error: 0.9190 - val_loss: 0.5425 - val_root_mean_squared_error: 0.7366\n",
      "Epoch 4/10\n",
      "1870/1875 [============================>.] - ETA: 0s - loss: 0.7089 - root_mean_squared_error: 0.8419"
     ]
    },
    {
     "name": "stderr",
     "output_type": "stream",
     "text": [
      "WARNING:absl:Found untraced functions such as _update_step_xla, gru_cell_1_layer_call_fn, gru_cell_1_layer_call_and_return_conditional_losses while saving (showing 3 of 3). These functions will not be directly callable after loading.\n"
     ]
    },
    {
     "name": "stdout",
     "output_type": "stream",
     "text": [
      "INFO:tensorflow:Assets written to: model3\\assets\n"
     ]
    },
    {
     "name": "stderr",
     "output_type": "stream",
     "text": [
      "INFO:tensorflow:Assets written to: model3\\assets\n"
     ]
    },
    {
     "name": "stdout",
     "output_type": "stream",
     "text": [
      "1875/1875 [==============================] - 12s 7ms/step - loss: 0.7087 - root_mean_squared_error: 0.8419 - val_loss: 0.5116 - val_root_mean_squared_error: 0.7152\n",
      "Epoch 5/10\n",
      "1867/1875 [============================>.] - ETA: 0s - loss: 0.6693 - root_mean_squared_error: 0.8181"
     ]
    },
    {
     "name": "stderr",
     "output_type": "stream",
     "text": [
      "WARNING:absl:Found untraced functions such as _update_step_xla, gru_cell_1_layer_call_fn, gru_cell_1_layer_call_and_return_conditional_losses while saving (showing 3 of 3). These functions will not be directly callable after loading.\n"
     ]
    },
    {
     "name": "stdout",
     "output_type": "stream",
     "text": [
      "INFO:tensorflow:Assets written to: model3\\assets\n"
     ]
    },
    {
     "name": "stderr",
     "output_type": "stream",
     "text": [
      "INFO:tensorflow:Assets written to: model3\\assets\n"
     ]
    },
    {
     "name": "stdout",
     "output_type": "stream",
     "text": [
      "1875/1875 [==============================] - 13s 7ms/step - loss: 0.6694 - root_mean_squared_error: 0.8182 - val_loss: 0.4994 - val_root_mean_squared_error: 0.7067\n",
      "Epoch 6/10\n",
      "1875/1875 [==============================] - 8s 5ms/step - loss: 0.6565 - root_mean_squared_error: 0.8103 - val_loss: 0.5168 - val_root_mean_squared_error: 0.7189\n",
      "Epoch 7/10\n",
      "1869/1875 [============================>.] - ETA: 0s - loss: 0.6494 - root_mean_squared_error: 0.8058"
     ]
    },
    {
     "name": "stderr",
     "output_type": "stream",
     "text": [
      "WARNING:absl:Found untraced functions such as _update_step_xla, gru_cell_1_layer_call_fn, gru_cell_1_layer_call_and_return_conditional_losses while saving (showing 3 of 3). These functions will not be directly callable after loading.\n"
     ]
    },
    {
     "name": "stdout",
     "output_type": "stream",
     "text": [
      "INFO:tensorflow:Assets written to: model3\\assets\n"
     ]
    },
    {
     "name": "stderr",
     "output_type": "stream",
     "text": [
      "INFO:tensorflow:Assets written to: model3\\assets\n"
     ]
    },
    {
     "name": "stdout",
     "output_type": "stream",
     "text": [
      "1875/1875 [==============================] - 12s 7ms/step - loss: 0.6496 - root_mean_squared_error: 0.8060 - val_loss: 0.4954 - val_root_mean_squared_error: 0.7039\n",
      "Epoch 8/10\n",
      "1875/1875 [==============================] - ETA: 0s - loss: 0.6457 - root_mean_squared_error: 0.8036"
     ]
    },
    {
     "name": "stderr",
     "output_type": "stream",
     "text": [
      "WARNING:absl:Found untraced functions such as _update_step_xla, gru_cell_1_layer_call_fn, gru_cell_1_layer_call_and_return_conditional_losses while saving (showing 3 of 3). These functions will not be directly callable after loading.\n"
     ]
    },
    {
     "name": "stdout",
     "output_type": "stream",
     "text": [
      "INFO:tensorflow:Assets written to: model3\\assets\n"
     ]
    },
    {
     "name": "stderr",
     "output_type": "stream",
     "text": [
      "INFO:tensorflow:Assets written to: model3\\assets\n"
     ]
    },
    {
     "name": "stdout",
     "output_type": "stream",
     "text": [
      "1875/1875 [==============================] - 12s 6ms/step - loss: 0.6457 - root_mean_squared_error: 0.8036 - val_loss: 0.4936 - val_root_mean_squared_error: 0.7025\n",
      "Epoch 9/10\n",
      "1875/1875 [==============================] - 8s 4ms/step - loss: 0.6432 - root_mean_squared_error: 0.8020 - val_loss: 0.4947 - val_root_mean_squared_error: 0.7033\n",
      "Epoch 10/10\n",
      "1869/1875 [============================>.] - ETA: 0s - loss: 0.6419 - root_mean_squared_error: 0.8012"
     ]
    },
    {
     "name": "stderr",
     "output_type": "stream",
     "text": [
      "WARNING:absl:Found untraced functions such as _update_step_xla, gru_cell_1_layer_call_fn, gru_cell_1_layer_call_and_return_conditional_losses while saving (showing 3 of 3). These functions will not be directly callable after loading.\n"
     ]
    },
    {
     "name": "stdout",
     "output_type": "stream",
     "text": [
      "INFO:tensorflow:Assets written to: model3\\assets\n"
     ]
    },
    {
     "name": "stderr",
     "output_type": "stream",
     "text": [
      "INFO:tensorflow:Assets written to: model3\\assets\n"
     ]
    },
    {
     "name": "stdout",
     "output_type": "stream",
     "text": [
      "1875/1875 [==============================] - 12s 6ms/step - loss: 0.6415 - root_mean_squared_error: 0.8009 - val_loss: 0.4899 - val_root_mean_squared_error: 0.6999\n"
     ]
    },
    {
     "data": {
      "text/plain": [
       "<keras.callbacks.History at 0x205bdba1640>"
      ]
     },
     "execution_count": 82,
     "metadata": {},
     "output_type": "execute_result"
    }
   ],
   "source": [
    "model3.fit(x_train, y_train, validation_data = (x_val, y_val), epochs = 10, callbacks = [cp3])"
   ]
  },
  {
   "cell_type": "code",
   "execution_count": 83,
   "metadata": {},
   "outputs": [
    {
     "name": "stdout",
     "output_type": "stream",
     "text": [
      "159/159 [==============================] - 1s 3ms/step\n"
     ]
    },
    {
     "data": {
      "text/plain": [
       "(      Predictions  Actuals\n",
       " 0       14.361781    13.99\n",
       " 1       13.193990    13.46\n",
       " 2       12.886567    12.93\n",
       " 3       12.467837    12.43\n",
       " 4       12.031499    12.17\n",
       " ...           ...      ...\n",
       " 5081    -0.962736    -0.98\n",
       " 5082    -1.374129    -1.40\n",
       " 5083    -1.711565    -2.75\n",
       " 5084    -3.274155    -2.89\n",
       " 5085    -3.047445    -3.93\n",
       " \n",
       " [5086 rows x 2 columns],\n",
       " 0.6195043443101527)"
      ]
     },
     "execution_count": 83,
     "metadata": {},
     "output_type": "execute_result"
    },
    {
     "data": {
      "image/png": "[encoded data removed]",
      "text/plain": [
       "<Figure size 640x480 with 1 Axes>"
      ]
     },
     "metadata": {},
     "output_type": "display_data"
    }
   ],
   "source": [
    "plot_predictions(model3, x_test, y_test)"
   ]
  },
  {
   "attachments": {},
   "cell_type": "markdown",
   "metadata": {},
   "source": [
    "# Multivariate"
   ]
  },
  {
   "cell_type": "code",
   "execution_count": 84,
   "metadata": {},
   "outputs": [
    {
     "data": {
      "text/html": [
       "<div>\n",
       "<style scoped>\n",
       "    .dataframe tbody tr th:only-of-type {\n",
       "        vertical-align: middle;\n",
       "    }\n",
       "\n",
       "    .dataframe tbody tr th {\n",
       "        vertical-align: top;\n",
       "    }\n",
       "\n",
       "    .dataframe thead th {\n",
       "        text-align: right;\n",
       "    }\n",
       "</style>\n",
       "<table border=\"1\" class=\"dataframe\">\n",
       "  <thead>\n",
       "    <tr style=\"text-align: right;\">\n",
       "      <th></th>\n",
       "      <th>Temperature</th>\n",
       "      <th>Seconds</th>\n",
       "    </tr>\n",
       "    <tr>\n",
       "      <th>Date Time</th>\n",
       "      <th></th>\n",
       "      <th></th>\n",
       "    </tr>\n",
       "  </thead>\n",
       "  <tbody>\n",
       "    <tr>\n",
       "      <th>2009-01-01 01:00:00</th>\n",
       "      <td>-8.05</td>\n",
       "      <td>1.230772e+09</td>\n",
       "    </tr>\n",
       "    <tr>\n",
       "      <th>2009-01-01 02:00:00</th>\n",
       "      <td>-8.88</td>\n",
       "      <td>1.230775e+09</td>\n",
       "    </tr>\n",
       "    <tr>\n",
       "      <th>2009-01-01 03:00:00</th>\n",
       "      <td>-8.81</td>\n",
       "      <td>1.230779e+09</td>\n",
       "    </tr>\n",
       "    <tr>\n",
       "      <th>2009-01-01 04:00:00</th>\n",
       "      <td>-9.05</td>\n",
       "      <td>1.230782e+09</td>\n",
       "    </tr>\n",
       "    <tr>\n",
       "      <th>2009-01-01 05:00:00</th>\n",
       "      <td>-9.63</td>\n",
       "      <td>1.230786e+09</td>\n",
       "    </tr>\n",
       "    <tr>\n",
       "      <th>...</th>\n",
       "      <td>...</td>\n",
       "      <td>...</td>\n",
       "    </tr>\n",
       "    <tr>\n",
       "      <th>2016-12-31 19:10:00</th>\n",
       "      <td>-0.98</td>\n",
       "      <td>1.483211e+09</td>\n",
       "    </tr>\n",
       "    <tr>\n",
       "      <th>2016-12-31 20:10:00</th>\n",
       "      <td>-1.40</td>\n",
       "      <td>1.483215e+09</td>\n",
       "    </tr>\n",
       "    <tr>\n",
       "      <th>2016-12-31 21:10:00</th>\n",
       "      <td>-2.75</td>\n",
       "      <td>1.483219e+09</td>\n",
       "    </tr>\n",
       "    <tr>\n",
       "      <th>2016-12-31 22:10:00</th>\n",
       "      <td>-2.89</td>\n",
       "      <td>1.483222e+09</td>\n",
       "    </tr>\n",
       "    <tr>\n",
       "      <th>2016-12-31 23:10:00</th>\n",
       "      <td>-3.93</td>\n",
       "      <td>1.483226e+09</td>\n",
       "    </tr>\n",
       "  </tbody>\n",
       "</table>\n",
       "<p>70091 rows × 2 columns</p>\n",
       "</div>"
      ],
      "text/plain": [
       "                     Temperature       Seconds\n",
       "Date Time                                     \n",
       "2009-01-01 01:00:00        -8.05  1.230772e+09\n",
       "2009-01-01 02:00:00        -8.88  1.230775e+09\n",
       "2009-01-01 03:00:00        -8.81  1.230779e+09\n",
       "2009-01-01 04:00:00        -9.05  1.230782e+09\n",
       "2009-01-01 05:00:00        -9.63  1.230786e+09\n",
       "...                          ...           ...\n",
       "2016-12-31 19:10:00        -0.98  1.483211e+09\n",
       "2016-12-31 20:10:00        -1.40  1.483215e+09\n",
       "2016-12-31 21:10:00        -2.75  1.483219e+09\n",
       "2016-12-31 22:10:00        -2.89  1.483222e+09\n",
       "2016-12-31 23:10:00        -3.93  1.483226e+09\n",
       "\n",
       "[70091 rows x 2 columns]"
      ]
     },
     "execution_count": 84,
     "metadata": {},
     "output_type": "execute_result"
    }
   ],
   "source": [
    "temp_df = pd.DataFrame({'Temperature':temp})\n",
    "temp_df['Seconds'] = temp_df.index.map(pd.Timestamp.timestamp)\n",
    "temp_df"
   ]
  },
  {
   "cell_type": "code",
   "execution_count": 85,
   "metadata": {},
   "outputs": [
    {
     "data": {
      "text/html": [
       "<div>\n",
       "<style scoped>\n",
       "    .dataframe tbody tr th:only-of-type {\n",
       "        vertical-align: middle;\n",
       "    }\n",
       "\n",
       "    .dataframe tbody tr th {\n",
       "        vertical-align: top;\n",
       "    }\n",
       "\n",
       "    .dataframe thead th {\n",
       "        text-align: right;\n",
       "    }\n",
       "</style>\n",
       "<table border=\"1\" class=\"dataframe\">\n",
       "  <thead>\n",
       "    <tr style=\"text-align: right;\">\n",
       "      <th></th>\n",
       "      <th>Temperature</th>\n",
       "      <th>Seconds</th>\n",
       "      <th>Day sin</th>\n",
       "      <th>Day cos</th>\n",
       "      <th>Year sin</th>\n",
       "      <th>Year cos</th>\n",
       "    </tr>\n",
       "    <tr>\n",
       "      <th>Date Time</th>\n",
       "      <th></th>\n",
       "      <th></th>\n",
       "      <th></th>\n",
       "      <th></th>\n",
       "      <th></th>\n",
       "      <th></th>\n",
       "    </tr>\n",
       "  </thead>\n",
       "  <tbody>\n",
       "    <tr>\n",
       "      <th>2009-01-01 01:00:00</th>\n",
       "      <td>-8.05</td>\n",
       "      <td>1.230772e+09</td>\n",
       "      <td>0.258819</td>\n",
       "      <td>0.965926</td>\n",
       "      <td>0.010049</td>\n",
       "      <td>0.999950</td>\n",
       "    </tr>\n",
       "    <tr>\n",
       "      <th>2009-01-01 02:00:00</th>\n",
       "      <td>-8.88</td>\n",
       "      <td>1.230775e+09</td>\n",
       "      <td>0.500000</td>\n",
       "      <td>0.866025</td>\n",
       "      <td>0.010766</td>\n",
       "      <td>0.999942</td>\n",
       "    </tr>\n",
       "    <tr>\n",
       "      <th>2009-01-01 03:00:00</th>\n",
       "      <td>-8.81</td>\n",
       "      <td>1.230779e+09</td>\n",
       "      <td>0.707107</td>\n",
       "      <td>0.707107</td>\n",
       "      <td>0.011483</td>\n",
       "      <td>0.999934</td>\n",
       "    </tr>\n",
       "    <tr>\n",
       "      <th>2009-01-01 04:00:00</th>\n",
       "      <td>-9.05</td>\n",
       "      <td>1.230782e+09</td>\n",
       "      <td>0.866025</td>\n",
       "      <td>0.500000</td>\n",
       "      <td>0.012199</td>\n",
       "      <td>0.999926</td>\n",
       "    </tr>\n",
       "    <tr>\n",
       "      <th>2009-01-01 05:00:00</th>\n",
       "      <td>-9.63</td>\n",
       "      <td>1.230786e+09</td>\n",
       "      <td>0.965926</td>\n",
       "      <td>0.258819</td>\n",
       "      <td>0.012916</td>\n",
       "      <td>0.999917</td>\n",
       "    </tr>\n",
       "  </tbody>\n",
       "</table>\n",
       "</div>"
      ],
      "text/plain": [
       "                     Temperature       Seconds   Day sin   Day cos  Year sin  \\\n",
       "Date Time                                                                      \n",
       "2009-01-01 01:00:00        -8.05  1.230772e+09  0.258819  0.965926  0.010049   \n",
       "2009-01-01 02:00:00        -8.88  1.230775e+09  0.500000  0.866025  0.010766   \n",
       "2009-01-01 03:00:00        -8.81  1.230779e+09  0.707107  0.707107  0.011483   \n",
       "2009-01-01 04:00:00        -9.05  1.230782e+09  0.866025  0.500000  0.012199   \n",
       "2009-01-01 05:00:00        -9.63  1.230786e+09  0.965926  0.258819  0.012916   \n",
       "\n",
       "                     Year cos  \n",
       "Date Time                      \n",
       "2009-01-01 01:00:00  0.999950  \n",
       "2009-01-01 02:00:00  0.999942  \n",
       "2009-01-01 03:00:00  0.999934  \n",
       "2009-01-01 04:00:00  0.999926  \n",
       "2009-01-01 05:00:00  0.999917  "
      ]
     },
     "execution_count": 85,
     "metadata": {},
     "output_type": "execute_result"
    }
   ],
   "source": [
    "day = 60*60*24\n",
    "year = 365.2425*day\n",
    "\n",
    "temp_df['Day sin'] = np.sin(temp_df['Seconds'] * (2* np.pi / day))\n",
    "temp_df['Day cos'] = np.cos(temp_df['Seconds'] * (2 * np.pi / day))\n",
    "temp_df['Year sin'] = np.sin(temp_df['Seconds'] * (2 * np.pi / year))\n",
    "temp_df['Year cos'] = np.cos(temp_df['Seconds'] * (2 * np.pi / year))\n",
    "temp_df.head()"
   ]
  },
  {
   "cell_type": "code",
   "execution_count": 86,
   "metadata": {},
   "outputs": [
    {
     "data": {
      "text/html": [
       "<div>\n",
       "<style scoped>\n",
       "    .dataframe tbody tr th:only-of-type {\n",
       "        vertical-align: middle;\n",
       "    }\n",
       "\n",
       "    .dataframe tbody tr th {\n",
       "        vertical-align: top;\n",
       "    }\n",
       "\n",
       "    .dataframe thead th {\n",
       "        text-align: right;\n",
       "    }\n",
       "</style>\n",
       "<table border=\"1\" class=\"dataframe\">\n",
       "  <thead>\n",
       "    <tr style=\"text-align: right;\">\n",
       "      <th></th>\n",
       "      <th>Temperature</th>\n",
       "      <th>Day sin</th>\n",
       "      <th>Day cos</th>\n",
       "      <th>Year sin</th>\n",
       "      <th>Year cos</th>\n",
       "    </tr>\n",
       "    <tr>\n",
       "      <th>Date Time</th>\n",
       "      <th></th>\n",
       "      <th></th>\n",
       "      <th></th>\n",
       "      <th></th>\n",
       "      <th></th>\n",
       "    </tr>\n",
       "  </thead>\n",
       "  <tbody>\n",
       "    <tr>\n",
       "      <th>2009-01-01 01:00:00</th>\n",
       "      <td>-8.05</td>\n",
       "      <td>0.258819</td>\n",
       "      <td>0.965926</td>\n",
       "      <td>0.010049</td>\n",
       "      <td>0.999950</td>\n",
       "    </tr>\n",
       "    <tr>\n",
       "      <th>2009-01-01 02:00:00</th>\n",
       "      <td>-8.88</td>\n",
       "      <td>0.500000</td>\n",
       "      <td>0.866025</td>\n",
       "      <td>0.010766</td>\n",
       "      <td>0.999942</td>\n",
       "    </tr>\n",
       "    <tr>\n",
       "      <th>2009-01-01 03:00:00</th>\n",
       "      <td>-8.81</td>\n",
       "      <td>0.707107</td>\n",
       "      <td>0.707107</td>\n",
       "      <td>0.011483</td>\n",
       "      <td>0.999934</td>\n",
       "    </tr>\n",
       "    <tr>\n",
       "      <th>2009-01-01 04:00:00</th>\n",
       "      <td>-9.05</td>\n",
       "      <td>0.866025</td>\n",
       "      <td>0.500000</td>\n",
       "      <td>0.012199</td>\n",
       "      <td>0.999926</td>\n",
       "    </tr>\n",
       "    <tr>\n",
       "      <th>2009-01-01 05:00:00</th>\n",
       "      <td>-9.63</td>\n",
       "      <td>0.965926</td>\n",
       "      <td>0.258819</td>\n",
       "      <td>0.012916</td>\n",
       "      <td>0.999917</td>\n",
       "    </tr>\n",
       "  </tbody>\n",
       "</table>\n",
       "</div>"
      ],
      "text/plain": [
       "                     Temperature   Day sin   Day cos  Year sin  Year cos\n",
       "Date Time                                                               \n",
       "2009-01-01 01:00:00        -8.05  0.258819  0.965926  0.010049  0.999950\n",
       "2009-01-01 02:00:00        -8.88  0.500000  0.866025  0.010766  0.999942\n",
       "2009-01-01 03:00:00        -8.81  0.707107  0.707107  0.011483  0.999934\n",
       "2009-01-01 04:00:00        -9.05  0.866025  0.500000  0.012199  0.999926\n",
       "2009-01-01 05:00:00        -9.63  0.965926  0.258819  0.012916  0.999917"
      ]
     },
     "execution_count": 86,
     "metadata": {},
     "output_type": "execute_result"
    }
   ],
   "source": [
    "temp_df = temp_df.drop(\"Seconds\", axis = 1)\n",
    "temp_df.head()"
   ]
  },
  {
   "cell_type": "code",
   "execution_count": 87,
   "metadata": {},
   "outputs": [],
   "source": [
    "# [[[t1, ds1], [t2, ds2], [t3, ds3], [t4, ds4], [t5, ds5]]] [t6]   [[x]] [y]\n",
    "# [[[t2], [t3], [t4], [t5], [t6]]] [t7]   [[x]] [y]\n",
    "def df_to_x_y2(df, window_size=6):\n",
    "    df_as_np = df.to_numpy()\n",
    "    X = []\n",
    "    y = []\n",
    "    for i in range(len(df_as_np)-window_size):\n",
    "        row = [r for r in df_as_np[i:i+window_size]]\n",
    "        X.append(row)\n",
    "        label = df_as_np[i+window_size][0]\n",
    "        y.append(label)\n",
    "    return np.array(X), np.array(y)"
   ]
  },
  {
   "cell_type": "code",
   "execution_count": 88,
   "metadata": {},
   "outputs": [
    {
     "data": {
      "text/plain": [
       "((70085, 6, 5), (70085,))"
      ]
     },
     "execution_count": 88,
     "metadata": {},
     "output_type": "execute_result"
    }
   ],
   "source": [
    "x2, y2 = df_to_x_y2(temp_df)\n",
    "x2.shape, y2.shape"
   ]
  },
  {
   "cell_type": "code",
   "execution_count": 89,
   "metadata": {},
   "outputs": [
    {
     "data": {
      "text/plain": [
       "((60000, 6, 5), (60000,), (5000, 6, 5), (5000,), (5085, 6, 5), (5085,))"
      ]
     },
     "execution_count": 89,
     "metadata": {},
     "output_type": "execute_result"
    }
   ],
   "source": [
    "x2_train, y2_train = x2[:60000], y2[:60000]\n",
    "x2_val, y2_val = x2[60000:65000], y2[60000:65000]\n",
    "x2_test, y2_test = x2[65000:], y2[65000:]\n",
    "x2_train.shape, y2_train.shape, x2_val.shape, y2_val.shape, x2_test.shape, y2_test.shape"
   ]
  },
  {
   "cell_type": "code",
   "execution_count": 90,
   "metadata": {},
   "outputs": [],
   "source": [
    "# Scale temperature\n",
    "temp_training_mean = np.mean(x2_train[:, :, 0]) #(all samples, all time stamps, first feature(temperature))\n",
    "temp_training_std = np.std(x2_train[:, :, 0])\n",
    "\n",
    "def preprocess(x):\n",
    "    x[:, :, 0] = (x[:, :, 0] - temp_training_mean) / temp_training_std\n",
    "    return x"
   ]
  },
  {
   "cell_type": "code",
   "execution_count": 91,
   "metadata": {},
   "outputs": [
    {
     "data": {
      "text/plain": [
       "array([[[ 1.04009706e+00, -9.65925826e-01,  2.58819045e-01,\n",
       "          5.22877889e-01, -8.52407598e-01],\n",
       "        [ 9.90732794e-01, -8.66025404e-01,  5.00000000e-01,\n",
       "          5.22266764e-01, -8.52782169e-01],\n",
       "        [ 8.49692028e-01, -7.07106781e-01,  7.07106781e-01,\n",
       "          5.21655371e-01, -8.53156301e-01],\n",
       "        [ 7.55664851e-01, -5.00000000e-01,  8.66025404e-01,\n",
       "          5.21043709e-01, -8.53529995e-01],\n",
       "        [ 6.66339032e-01, -2.58819045e-01,  9.65925826e-01,\n",
       "          5.20431780e-01, -8.53903251e-01],\n",
       "        [ 5.37051663e-01, -7.16474371e-12,  1.00000000e+00,\n",
       "          5.19819584e-01, -8.54276068e-01]],\n",
       "\n",
       "       [[ 9.90732794e-01, -8.66025404e-01,  5.00000000e-01,\n",
       "          5.22266764e-01, -8.52782169e-01],\n",
       "        [ 8.49692028e-01, -7.07106781e-01,  7.07106781e-01,\n",
       "          5.21655371e-01, -8.53156301e-01],\n",
       "        [ 7.55664851e-01, -5.00000000e-01,  8.66025404e-01,\n",
       "          5.21043709e-01, -8.53529995e-01],\n",
       "        [ 6.66339032e-01, -2.58819045e-01,  9.65925826e-01,\n",
       "          5.20431780e-01, -8.53903251e-01],\n",
       "        [ 5.37051663e-01, -7.16474371e-12,  1.00000000e+00,\n",
       "          5.19819584e-01, -8.54276068e-01],\n",
       "        [ 4.74758658e-01,  2.58819045e-01,  9.65925826e-01,\n",
       "          5.19207120e-01, -8.54648446e-01]],\n",
       "\n",
       "       [[ 8.49692028e-01, -7.07106781e-01,  7.07106781e-01,\n",
       "          5.21655371e-01, -8.53156301e-01],\n",
       "        [ 7.55664851e-01, -5.00000000e-01,  8.66025404e-01,\n",
       "          5.21043709e-01, -8.53529995e-01],\n",
       "        [ 6.66339032e-01, -2.58819045e-01,  9.65925826e-01,\n",
       "          5.20431780e-01, -8.53903251e-01],\n",
       "        [ 5.37051663e-01, -7.16474371e-12,  1.00000000e+00,\n",
       "          5.19819584e-01, -8.54276068e-01],\n",
       "        [ 4.74758658e-01,  2.58819045e-01,  9.65925826e-01,\n",
       "          5.19207120e-01, -8.54648446e-01],\n",
       "        [ 4.12465653e-01,  5.00000000e-01,  8.66025404e-01,\n",
       "          5.18594390e-01, -8.55020385e-01]],\n",
       "\n",
       "       ...,\n",
       "\n",
       "       [[-5.23104762e-01, -7.37277337e-01, -6.75590208e-01,\n",
       "          4.03308458e-03,  9.99991867e-01],\n",
       "        [-8.20465711e-01, -8.87010833e-01, -4.61748613e-01,\n",
       "          4.74986003e-03,  9.99988719e-01],\n",
       "        [-9.55629779e-01, -9.76296007e-01, -2.16439614e-01,\n",
       "          5.46663304e-03,  9.99985058e-01],\n",
       "        [-1.15661287e+00, -9.99048222e-01,  4.36193874e-02,\n",
       "          6.18340325e-03,  9.99980883e-01],\n",
       "        [-1.22243189e+00, -9.53716951e-01,  3.00705799e-01,\n",
       "          6.90017027e-03,  9.99976194e-01],\n",
       "        [-1.27179616e+00, -8.43391446e-01,  5.37299608e-01,\n",
       "          7.61693375e-03,  9.99970991e-01]],\n",
       "\n",
       "       [[-8.20465711e-01, -8.87010833e-01, -4.61748613e-01,\n",
       "          4.74986003e-03,  9.99988719e-01],\n",
       "        [-9.55629779e-01, -9.76296007e-01, -2.16439614e-01,\n",
       "          5.46663304e-03,  9.99985058e-01],\n",
       "        [-1.15661287e+00, -9.99048222e-01,  4.36193874e-02,\n",
       "          6.18340325e-03,  9.99980883e-01],\n",
       "        [-1.22243189e+00, -9.53716951e-01,  3.00705799e-01,\n",
       "          6.90017027e-03,  9.99976194e-01],\n",
       "        [-1.27179616e+00, -8.43391446e-01,  5.37299608e-01,\n",
       "          7.61693375e-03,  9.99970991e-01],\n",
       "        [-1.43046702e+00, -6.75590208e-01,  7.37277337e-01,\n",
       "          8.33369332e-03,  9.99965274e-01]],\n",
       "\n",
       "       [[-9.55629779e-01, -9.76296007e-01, -2.16439614e-01,\n",
       "          5.46663304e-03,  9.99985058e-01],\n",
       "        [-1.15661287e+00, -9.99048222e-01,  4.36193874e-02,\n",
       "          6.18340325e-03,  9.99980883e-01],\n",
       "        [-1.22243189e+00, -9.53716951e-01,  3.00705799e-01,\n",
       "          6.90017027e-03,  9.99976194e-01],\n",
       "        [-1.27179616e+00, -8.43391446e-01,  5.37299608e-01,\n",
       "          7.61693375e-03,  9.99970991e-01],\n",
       "        [-1.43046702e+00, -6.75590208e-01,  7.37277337e-01,\n",
       "          8.33369332e-03,  9.99965274e-01],\n",
       "        [-1.44692178e+00, -4.61748613e-01,  8.87010833e-01,\n",
       "          9.05044860e-03,  9.99959044e-01]]])"
      ]
     },
     "execution_count": 91,
     "metadata": {},
     "output_type": "execute_result"
    }
   ],
   "source": [
    "preprocess(x2_train)\n",
    "preprocess(x2_val)\n",
    "preprocess(x2_test)"
   ]
  },
  {
   "cell_type": "code",
   "execution_count": 92,
   "metadata": {},
   "outputs": [
    {
     "name": "stdout",
     "output_type": "stream",
     "text": [
      "Model: \"sequential_7\"\n",
      "_________________________________________________________________\n",
      " Layer (type)                Output Shape              Param #   \n",
      "=================================================================\n",
      " lstm_3 (LSTM)               (None, 64)                17920     \n",
      "                                                                 \n",
      " dense_14 (Dense)            (None, 8)                 520       \n",
      "                                                                 \n",
      " dense_15 (Dense)            (None, 1)                 9         \n",
      "                                                                 \n",
      "=================================================================\n",
      "Total params: 18,449\n",
      "Trainable params: 18,449\n",
      "Non-trainable params: 0\n",
      "_________________________________________________________________\n"
     ]
    }
   ],
   "source": [
    "model4 = Sequential()\n",
    "model4.add(InputLayer((6, 5)))\n",
    "model4.add(LSTM(64))\n",
    "model4.add(Dense(8, \"relu\"))\n",
    "model4.add(Dense(1, \"linear\"))\n",
    "\n",
    "model4.summary()"
   ]
  },
  {
   "cell_type": "code",
   "execution_count": 93,
   "metadata": {},
   "outputs": [],
   "source": [
    "cp4 = ModelCheckpoint(\"model4/\", save_best_only = True)\n",
    "model4.compile(loss = MeanSquaredError(), optimizer = Adam(learning_rate = 0.0001), metrics = [RootMeanSquaredError()])"
   ]
  },
  {
   "cell_type": "code",
   "execution_count": 94,
   "metadata": {},
   "outputs": [
    {
     "name": "stdout",
     "output_type": "stream",
     "text": [
      "Epoch 1/10\n",
      "1875/1875 [==============================] - ETA: 0s - loss: 48.2888 - root_mean_squared_error: 6.9490"
     ]
    },
    {
     "name": "stderr",
     "output_type": "stream",
     "text": [
      "WARNING:absl:Found untraced functions such as _update_step_xla, lstm_cell_5_layer_call_fn, lstm_cell_5_layer_call_and_return_conditional_losses while saving (showing 3 of 3). These functions will not be directly callable after loading.\n"
     ]
    },
    {
     "name": "stdout",
     "output_type": "stream",
     "text": [
      "INFO:tensorflow:Assets written to: model4\\assets\n"
     ]
    },
    {
     "name": "stderr",
     "output_type": "stream",
     "text": [
      "INFO:tensorflow:Assets written to: model4\\assets\n"
     ]
    },
    {
     "name": "stdout",
     "output_type": "stream",
     "text": [
      "1875/1875 [==============================] - 22s 11ms/step - loss: 48.2888 - root_mean_squared_error: 6.9490 - val_loss: 4.6098 - val_root_mean_squared_error: 2.1470\n",
      "Epoch 2/10\n",
      "1868/1875 [============================>.] - ETA: 0s - loss: 5.3323 - root_mean_squared_error: 2.3092"
     ]
    },
    {
     "name": "stderr",
     "output_type": "stream",
     "text": [
      "WARNING:absl:Found untraced functions such as _update_step_xla, lstm_cell_5_layer_call_fn, lstm_cell_5_layer_call_and_return_conditional_losses while saving (showing 3 of 3). These functions will not be directly callable after loading.\n"
     ]
    },
    {
     "name": "stdout",
     "output_type": "stream",
     "text": [
      "INFO:tensorflow:Assets written to: model4\\assets\n"
     ]
    },
    {
     "name": "stderr",
     "output_type": "stream",
     "text": [
      "INFO:tensorflow:Assets written to: model4\\assets\n"
     ]
    },
    {
     "name": "stdout",
     "output_type": "stream",
     "text": [
      "1875/1875 [==============================] - 15s 8ms/step - loss: 5.3223 - root_mean_squared_error: 2.3070 - val_loss: 1.9750 - val_root_mean_squared_error: 1.4053\n",
      "Epoch 3/10\n",
      "1866/1875 [============================>.] - ETA: 0s - loss: 2.0136 - root_mean_squared_error: 1.4190"
     ]
    },
    {
     "name": "stderr",
     "output_type": "stream",
     "text": [
      "WARNING:absl:Found untraced functions such as _update_step_xla, lstm_cell_5_layer_call_fn, lstm_cell_5_layer_call_and_return_conditional_losses while saving (showing 3 of 3). These functions will not be directly callable after loading.\n"
     ]
    },
    {
     "name": "stdout",
     "output_type": "stream",
     "text": [
      "INFO:tensorflow:Assets written to: model4\\assets\n"
     ]
    },
    {
     "name": "stderr",
     "output_type": "stream",
     "text": [
      "INFO:tensorflow:Assets written to: model4\\assets\n"
     ]
    },
    {
     "name": "stdout",
     "output_type": "stream",
     "text": [
      "1875/1875 [==============================] - 11s 6ms/step - loss: 2.0093 - root_mean_squared_error: 1.4175 - val_loss: 0.9713 - val_root_mean_squared_error: 0.9855\n",
      "Epoch 4/10\n",
      "1870/1875 [============================>.] - ETA: 0s - loss: 1.0800 - root_mean_squared_error: 1.0392"
     ]
    },
    {
     "name": "stderr",
     "output_type": "stream",
     "text": [
      "WARNING:absl:Found untraced functions such as _update_step_xla, lstm_cell_5_layer_call_fn, lstm_cell_5_layer_call_and_return_conditional_losses while saving (showing 3 of 3). These functions will not be directly callable after loading.\n"
     ]
    },
    {
     "name": "stdout",
     "output_type": "stream",
     "text": [
      "INFO:tensorflow:Assets written to: model4\\assets\n"
     ]
    },
    {
     "name": "stderr",
     "output_type": "stream",
     "text": [
      "INFO:tensorflow:Assets written to: model4\\assets\n"
     ]
    },
    {
     "name": "stdout",
     "output_type": "stream",
     "text": [
      "1875/1875 [==============================] - 11s 6ms/step - loss: 1.0807 - root_mean_squared_error: 1.0396 - val_loss: 0.7156 - val_root_mean_squared_error: 0.8459\n",
      "Epoch 5/10\n",
      "1870/1875 [============================>.] - ETA: 0s - loss: 0.8115 - root_mean_squared_error: 0.9008"
     ]
    },
    {
     "name": "stderr",
     "output_type": "stream",
     "text": [
      "WARNING:absl:Found untraced functions such as _update_step_xla, lstm_cell_5_layer_call_fn, lstm_cell_5_layer_call_and_return_conditional_losses while saving (showing 3 of 3). These functions will not be directly callable after loading.\n"
     ]
    },
    {
     "name": "stdout",
     "output_type": "stream",
     "text": [
      "INFO:tensorflow:Assets written to: model4\\assets\n"
     ]
    },
    {
     "name": "stderr",
     "output_type": "stream",
     "text": [
      "INFO:tensorflow:Assets written to: model4\\assets\n"
     ]
    },
    {
     "name": "stdout",
     "output_type": "stream",
     "text": [
      "1875/1875 [==============================] - 12s 6ms/step - loss: 0.8108 - root_mean_squared_error: 0.9004 - val_loss: 0.5792 - val_root_mean_squared_error: 0.7610\n",
      "Epoch 6/10\n",
      "1864/1875 [============================>.] - ETA: 0s - loss: 0.6650 - root_mean_squared_error: 0.8155"
     ]
    },
    {
     "name": "stderr",
     "output_type": "stream",
     "text": [
      "WARNING:absl:Found untraced functions such as _update_step_xla, lstm_cell_5_layer_call_fn, lstm_cell_5_layer_call_and_return_conditional_losses while saving (showing 3 of 3). These functions will not be directly callable after loading.\n"
     ]
    },
    {
     "name": "stdout",
     "output_type": "stream",
     "text": [
      "INFO:tensorflow:Assets written to: model4\\assets\n"
     ]
    },
    {
     "name": "stderr",
     "output_type": "stream",
     "text": [
      "INFO:tensorflow:Assets written to: model4\\assets\n"
     ]
    },
    {
     "name": "stdout",
     "output_type": "stream",
     "text": [
      "1875/1875 [==============================] - 12s 6ms/step - loss: 0.6650 - root_mean_squared_error: 0.8155 - val_loss: 0.4806 - val_root_mean_squared_error: 0.6933\n",
      "Epoch 7/10\n",
      "1864/1875 [============================>.] - ETA: 0s - loss: 0.5934 - root_mean_squared_error: 0.7703"
     ]
    },
    {
     "name": "stderr",
     "output_type": "stream",
     "text": [
      "WARNING:absl:Found untraced functions such as _update_step_xla, lstm_cell_5_layer_call_fn, lstm_cell_5_layer_call_and_return_conditional_losses while saving (showing 3 of 3). These functions will not be directly callable after loading.\n"
     ]
    },
    {
     "name": "stdout",
     "output_type": "stream",
     "text": [
      "INFO:tensorflow:Assets written to: model4\\assets\n"
     ]
    },
    {
     "name": "stderr",
     "output_type": "stream",
     "text": [
      "INFO:tensorflow:Assets written to: model4\\assets\n"
     ]
    },
    {
     "name": "stdout",
     "output_type": "stream",
     "text": [
      "1875/1875 [==============================] - 12s 6ms/step - loss: 0.5955 - root_mean_squared_error: 0.7717 - val_loss: 0.4483 - val_root_mean_squared_error: 0.6696\n",
      "Epoch 8/10\n",
      "1872/1875 [============================>.] - ETA: 0s - loss: 0.5610 - root_mean_squared_error: 0.7490"
     ]
    },
    {
     "name": "stderr",
     "output_type": "stream",
     "text": [
      "WARNING:absl:Found untraced functions such as _update_step_xla, lstm_cell_5_layer_call_fn, lstm_cell_5_layer_call_and_return_conditional_losses while saving (showing 3 of 3). These functions will not be directly callable after loading.\n"
     ]
    },
    {
     "name": "stdout",
     "output_type": "stream",
     "text": [
      "INFO:tensorflow:Assets written to: model4\\assets\n"
     ]
    },
    {
     "name": "stderr",
     "output_type": "stream",
     "text": [
      "INFO:tensorflow:Assets written to: model4\\assets\n"
     ]
    },
    {
     "name": "stdout",
     "output_type": "stream",
     "text": [
      "1875/1875 [==============================] - 12s 6ms/step - loss: 0.5611 - root_mean_squared_error: 0.7491 - val_loss: 0.4275 - val_root_mean_squared_error: 0.6539\n",
      "Epoch 9/10\n",
      "1874/1875 [============================>.] - ETA: 0s - loss: 0.5479 - root_mean_squared_error: 0.7402"
     ]
    },
    {
     "name": "stderr",
     "output_type": "stream",
     "text": [
      "WARNING:absl:Found untraced functions such as _update_step_xla, lstm_cell_5_layer_call_fn, lstm_cell_5_layer_call_and_return_conditional_losses while saving (showing 3 of 3). These functions will not be directly callable after loading.\n"
     ]
    },
    {
     "name": "stdout",
     "output_type": "stream",
     "text": [
      "INFO:tensorflow:Assets written to: model4\\assets\n"
     ]
    },
    {
     "name": "stderr",
     "output_type": "stream",
     "text": [
      "INFO:tensorflow:Assets written to: model4\\assets\n"
     ]
    },
    {
     "name": "stdout",
     "output_type": "stream",
     "text": [
      "1875/1875 [==============================] - 12s 6ms/step - loss: 0.5477 - root_mean_squared_error: 0.7401 - val_loss: 0.4226 - val_root_mean_squared_error: 0.6501\n",
      "Epoch 10/10\n",
      "1875/1875 [==============================] - 9s 5ms/step - loss: 0.5387 - root_mean_squared_error: 0.7340 - val_loss: 0.4301 - val_root_mean_squared_error: 0.6558\n"
     ]
    },
    {
     "data": {
      "text/plain": [
       "<keras.callbacks.History at 0x205bdf43100>"
      ]
     },
     "execution_count": 94,
     "metadata": {},
     "output_type": "execute_result"
    }
   ],
   "source": [
    "model4.fit(x2_train, y2_train, validation_data = (x2_val, y2_val), epochs = 10, callbacks = [cp4])"
   ]
  },
  {
   "cell_type": "code",
   "execution_count": 95,
   "metadata": {},
   "outputs": [
    {
     "name": "stdout",
     "output_type": "stream",
     "text": [
      "159/159 [==============================] - 1s 2ms/step\n"
     ]
    },
    {
     "data": {
      "text/plain": [
       "(      Predictions  Actuals\n",
       " 0       13.045099    13.46\n",
       " 1       12.633108    12.93\n",
       " 2       12.188368    12.43\n",
       " 3       11.867666    12.17\n",
       " 4       11.990443    11.55\n",
       " ...           ...      ...\n",
       " 5080    -1.026897    -0.98\n",
       " 5081    -1.375042    -1.40\n",
       " 5082    -1.684625    -2.75\n",
       " 5083    -3.010780    -2.89\n",
       " 5084    -3.062804    -3.93\n",
       " \n",
       " [5085 rows x 2 columns],\n",
       " 0.5215605889598881)"
      ]
     },
     "execution_count": 95,
     "metadata": {},
     "output_type": "execute_result"
    },
    {
     "data": {
      "image/png": "[encoded data removed]",
      "text/plain": [
       "<Figure size 640x480 with 1 Axes>"
      ]
     },
     "metadata": {},
     "output_type": "display_data"
    }
   ],
   "source": [
    "plot_predictions(model4, x2_test, y2_test)"
   ]
  },
  {
   "attachments": {},
   "cell_type": "markdown",
   "metadata": {},
   "source": [
    "# Multi in multi out"
   ]
  },
  {
   "cell_type": "code",
   "execution_count": 122,
   "metadata": {},
   "outputs": [
    {
     "data": {
      "text/html": [
       "<div>\n",
       "<style scoped>\n",
       "    .dataframe tbody tr th:only-of-type {\n",
       "        vertical-align: middle;\n",
       "    }\n",
       "\n",
       "    .dataframe tbody tr th {\n",
       "        vertical-align: top;\n",
       "    }\n",
       "\n",
       "    .dataframe thead th {\n",
       "        text-align: right;\n",
       "    }\n",
       "</style>\n",
       "<table border=\"1\" class=\"dataframe\">\n",
       "  <thead>\n",
       "    <tr style=\"text-align: right;\">\n",
       "      <th></th>\n",
       "      <th>p (mbar)</th>\n",
       "      <th>Temperature</th>\n",
       "      <th>Day sin</th>\n",
       "      <th>Day cos</th>\n",
       "      <th>Year sin</th>\n",
       "      <th>Year cos</th>\n",
       "    </tr>\n",
       "    <tr>\n",
       "      <th>Date Time</th>\n",
       "      <th></th>\n",
       "      <th></th>\n",
       "      <th></th>\n",
       "      <th></th>\n",
       "      <th></th>\n",
       "      <th></th>\n",
       "    </tr>\n",
       "  </thead>\n",
       "  <tbody>\n",
       "    <tr>\n",
       "      <th>2009-01-01 01:00:00</th>\n",
       "      <td>996.50</td>\n",
       "      <td>-8.05</td>\n",
       "      <td>0.258819</td>\n",
       "      <td>0.965926</td>\n",
       "      <td>0.010049</td>\n",
       "      <td>0.999950</td>\n",
       "    </tr>\n",
       "    <tr>\n",
       "      <th>2009-01-01 02:00:00</th>\n",
       "      <td>996.62</td>\n",
       "      <td>-8.88</td>\n",
       "      <td>0.500000</td>\n",
       "      <td>0.866025</td>\n",
       "      <td>0.010766</td>\n",
       "      <td>0.999942</td>\n",
       "    </tr>\n",
       "    <tr>\n",
       "      <th>2009-01-01 03:00:00</th>\n",
       "      <td>996.84</td>\n",
       "      <td>-8.81</td>\n",
       "      <td>0.707107</td>\n",
       "      <td>0.707107</td>\n",
       "      <td>0.011483</td>\n",
       "      <td>0.999934</td>\n",
       "    </tr>\n",
       "    <tr>\n",
       "      <th>2009-01-01 04:00:00</th>\n",
       "      <td>996.99</td>\n",
       "      <td>-9.05</td>\n",
       "      <td>0.866025</td>\n",
       "      <td>0.500000</td>\n",
       "      <td>0.012199</td>\n",
       "      <td>0.999926</td>\n",
       "    </tr>\n",
       "    <tr>\n",
       "      <th>2009-01-01 05:00:00</th>\n",
       "      <td>997.46</td>\n",
       "      <td>-9.63</td>\n",
       "      <td>0.965926</td>\n",
       "      <td>0.258819</td>\n",
       "      <td>0.012916</td>\n",
       "      <td>0.999917</td>\n",
       "    </tr>\n",
       "  </tbody>\n",
       "</table>\n",
       "</div>"
      ],
      "text/plain": [
       "                     p (mbar)  Temperature   Day sin   Day cos  Year sin  \\\n",
       "Date Time                                                                  \n",
       "2009-01-01 01:00:00    996.50        -8.05  0.258819  0.965926  0.010049   \n",
       "2009-01-01 02:00:00    996.62        -8.88  0.500000  0.866025  0.010766   \n",
       "2009-01-01 03:00:00    996.84        -8.81  0.707107  0.707107  0.011483   \n",
       "2009-01-01 04:00:00    996.99        -9.05  0.866025  0.500000  0.012199   \n",
       "2009-01-01 05:00:00    997.46        -9.63  0.965926  0.258819  0.012916   \n",
       "\n",
       "                     Year cos  \n",
       "Date Time                      \n",
       "2009-01-01 01:00:00  0.999950  \n",
       "2009-01-01 02:00:00  0.999942  \n",
       "2009-01-01 03:00:00  0.999934  \n",
       "2009-01-01 04:00:00  0.999926  \n",
       "2009-01-01 05:00:00  0.999917  "
      ]
     },
     "execution_count": 122,
     "metadata": {},
     "output_type": "execute_result"
    }
   ],
   "source": [
    "p_temp_df = pd.concat([data[\"p (mbar)\"], temp_df], axis = 1)\n",
    "p_temp_df.head()"
   ]
  },
  {
   "cell_type": "code",
   "execution_count": 123,
   "metadata": {},
   "outputs": [],
   "source": [
    "def df_to_x_y3(df, window_size = 7):\n",
    "    df_as_np = df.to_numpy()\n",
    "    x = []\n",
    "    y = []\n",
    "    for i in range(len(df_as_np) - window_size):\n",
    "        row = [r for r in df_as_np[i:i + window_size]]\n",
    "        x.append(row)\n",
    "        label = [df_as_np[i + window_size][0], df_as_np[i + window_size][1]]\n",
    "        y.append(label)\n",
    "    return np.array(x), np.array(y)"
   ]
  },
  {
   "cell_type": "code",
   "execution_count": 124,
   "metadata": {},
   "outputs": [
    {
     "data": {
      "text/plain": [
       "((70084, 7, 6), (70084, 2))"
      ]
     },
     "execution_count": 124,
     "metadata": {},
     "output_type": "execute_result"
    }
   ],
   "source": [
    "x3, y3 = df_to_x_y3(p_temp_df)\n",
    "x3.shape, y3.shape"
   ]
  },
  {
   "cell_type": "code",
   "execution_count": 125,
   "metadata": {},
   "outputs": [
    {
     "data": {
      "text/plain": [
       "((60000, 7, 6), (60000, 2), (5000, 7, 6), (5000, 2), (5084, 7, 6), (5084, 2))"
      ]
     },
     "execution_count": 125,
     "metadata": {},
     "output_type": "execute_result"
    }
   ],
   "source": [
    "x3_train, y3_train = x3[:60000], y3[:60000]\n",
    "x3_val, y3_val = x3[60000:65000], y3[60000:65000]\n",
    "x3_test, y3_test = x3[65000:], y3[65000:]\n",
    "x3_train.shape, y3_train.shape, x3_val.shape, y3_val.shape, x3_test.shape, y3_test.shape"
   ]
  },
  {
   "cell_type": "code",
   "execution_count": 126,
   "metadata": {},
   "outputs": [],
   "source": [
    "#scaling\n",
    "p_training_mean3 = np.mean(x3_train[:, :, 0])\n",
    "p_training_std3 = np.std(x3_train[:, :, 0])\n",
    "\n",
    "temp_training_mean3 = np.mean(x3_train[:, :, 1])\n",
    "temp_training_std3 = np.std(x3_train[:, :, 1])\n",
    "\n",
    "def preprocess3(x):\n",
    "    x[:, :, 0] = (x[:, :, 0] - p_training_mean3) / p_training_std3\n",
    "    x[:, :, 1] = (x[:, :, 1] - temp_training_mean3) / temp_training_std3\n",
    "    return x\n",
    "\n",
    "def preprocess_output(y):\n",
    "    y[:, 0] = (y[:, 0] - p_training_mean3) / p_training_std3\n",
    "    y[:, 1] = (y[:, 1] - temp_training_mean3) / temp_training_std3\n",
    "    return y"
   ]
  },
  {
   "cell_type": "code",
   "execution_count": 127,
   "metadata": {},
   "outputs": [
    {
     "data": {
      "text/plain": [
       "array([[[-1.07355644e+00,  1.04009390e+00, -9.65925826e-01,\n",
       "          2.58819045e-01,  5.22877889e-01, -8.52407598e-01],\n",
       "        [-1.00807435e+00,  9.90728707e-01, -8.66025404e-01,\n",
       "          5.00000000e-01,  5.22266764e-01, -8.52782169e-01],\n",
       "        [-9.51080673e-01,  8.49685305e-01, -7.07106781e-01,\n",
       "          7.07106781e-01,  5.21655371e-01, -8.53156301e-01],\n",
       "        ...,\n",
       "        [-8.80748054e-01,  6.66328883e-01, -2.58819045e-01,\n",
       "          9.65925826e-01,  5.20431780e-01, -8.53903251e-01],\n",
       "        [-8.29817537e-01,  5.37039098e-01, -7.16474371e-12,\n",
       "          1.00000000e+00,  5.19819584e-01, -8.54276068e-01],\n",
       "        [-8.01927015e-01,  4.74744929e-01,  2.58819045e-01,\n",
       "          9.65925826e-01,  5.19207120e-01, -8.54648446e-01]],\n",
       "\n",
       "       [[-1.00807435e+00,  9.90728707e-01, -8.66025404e-01,\n",
       "          5.00000000e-01,  5.22266764e-01, -8.52782169e-01],\n",
       "        [-9.51080673e-01,  8.49685305e-01, -7.07106781e-01,\n",
       "          7.07106781e-01,  5.21655371e-01, -8.53156301e-01],\n",
       "        [-9.14701732e-01,  7.55656370e-01, -5.00000000e-01,\n",
       "          8.66025404e-01,  5.21043709e-01, -8.53529995e-01],\n",
       "        ...,\n",
       "        [-8.29817537e-01,  5.37039098e-01, -7.16474371e-12,\n",
       "          1.00000000e+00,  5.19819584e-01, -8.54276068e-01],\n",
       "        [-8.01927015e-01,  4.74744929e-01,  2.58819045e-01,\n",
       "          9.65925826e-01,  5.19207120e-01, -8.54648446e-01],\n",
       "        [-7.93438596e-01,  4.12450760e-01,  5.00000000e-01,\n",
       "          8.66025404e-01,  5.18594390e-01, -8.55020385e-01]],\n",
       "\n",
       "       [[-9.51080673e-01,  8.49685305e-01, -7.07106781e-01,\n",
       "          7.07106781e-01,  5.21655371e-01, -8.53156301e-01],\n",
       "        [-9.14701732e-01,  7.55656370e-01, -5.00000000e-01,\n",
       "          8.66025404e-01,  5.21043709e-01, -8.53529995e-01],\n",
       "        [-8.80748054e-01,  6.66328883e-01, -2.58819045e-01,\n",
       "          9.65925826e-01,  5.20431780e-01, -8.53903251e-01],\n",
       "        ...,\n",
       "        [-8.01927015e-01,  4.74744929e-01,  2.58819045e-01,\n",
       "          9.65925826e-01,  5.19207120e-01, -8.54648446e-01],\n",
       "        [-7.93438596e-01,  4.12450760e-01,  5.00000000e-01,\n",
       "          8.66025404e-01,  5.18594390e-01, -8.55020385e-01],\n",
       "        [-7.63122812e-01,  3.53682676e-01,  7.07106781e-01,\n",
       "          7.07106781e-01,  5.17981393e-01, -8.55391885e-01]],\n",
       "\n",
       "       ...,\n",
       "\n",
       "       [[ 1.73125990e+00, -6.19516796e-01, -5.37299608e-01,\n",
       "         -8.43391446e-01,  3.31630706e-03,  9.99994501e-01],\n",
       "        [ 1.71185780e+00, -5.23137138e-01, -7.37277337e-01,\n",
       "         -6.75590208e-01,  4.03308458e-03,  9.99991867e-01],\n",
       "        [ 1.64516307e+00, -8.20503643e-01, -8.87010833e-01,\n",
       "         -4.61748613e-01,  4.74986003e-03,  9.99988719e-01],\n",
       "        ...,\n",
       "        [ 1.61242203e+00, -1.15665708e+00, -9.99048222e-01,\n",
       "          4.36193874e-02,  6.18340325e-03,  9.99980883e-01],\n",
       "        [ 1.60150834e+00, -1.22247734e+00, -9.53716951e-01,\n",
       "          3.00705799e-01,  6.90017027e-03,  9.99976194e-01],\n",
       "        [ 1.50692310e+00, -1.27184253e+00, -8.43391446e-01,\n",
       "          5.37299608e-01,  7.61693375e-03,  9.99970991e-01]],\n",
       "\n",
       "       [[ 1.71185780e+00, -5.23137138e-01, -7.37277337e-01,\n",
       "         -6.75590208e-01,  4.03308458e-03,  9.99991867e-01],\n",
       "        [ 1.64516307e+00, -8.20503643e-01, -8.87010833e-01,\n",
       "         -4.61748613e-01,  4.74986003e-03,  9.99988719e-01],\n",
       "        [ 1.63182413e+00, -9.55670237e-01, -9.76296007e-01,\n",
       "         -2.16439614e-01,  5.46663304e-03,  9.99985058e-01],\n",
       "        ...,\n",
       "        [ 1.60150834e+00, -1.22247734e+00, -9.53716951e-01,\n",
       "          3.00705799e-01,  6.90017027e-03,  9.99976194e-01],\n",
       "        [ 1.50692310e+00, -1.27184253e+00, -8.43391446e-01,\n",
       "          5.37299608e-01,  7.61693375e-03,  9.99970991e-01],\n",
       "        [ 1.48145784e+00, -1.43051636e+00, -6.75590208e-01,\n",
       "          7.37277337e-01,  8.33369332e-03,  9.99965274e-01]],\n",
       "\n",
       "       [[ 1.64516307e+00, -8.20503643e-01, -8.87010833e-01,\n",
       "         -4.61748613e-01,  4.74986003e-03,  9.99988719e-01],\n",
       "        [ 1.63182413e+00, -9.55670237e-01, -9.76296007e-01,\n",
       "         -2.16439614e-01,  5.46663304e-03,  9.99985058e-01],\n",
       "        [ 1.61242203e+00, -1.15665708e+00, -9.99048222e-01,\n",
       "          4.36193874e-02,  6.18340325e-03,  9.99980883e-01],\n",
       "        ...,\n",
       "        [ 1.50692310e+00, -1.27184253e+00, -8.43391446e-01,\n",
       "          5.37299608e-01,  7.61693375e-03,  9.99970991e-01],\n",
       "        [ 1.48145784e+00, -1.43051636e+00, -6.75590208e-01,\n",
       "          7.37277337e-01,  8.33369332e-03,  9.99965274e-01],\n",
       "        [ 1.41597574e+00, -1.44697142e+00, -4.61748613e-01,\n",
       "          8.87010833e-01,  9.05044860e-03,  9.99959044e-01]]])"
      ]
     },
     "execution_count": 127,
     "metadata": {},
     "output_type": "execute_result"
    }
   ],
   "source": [
    "preprocess3(x3_train)\n",
    "preprocess3(x3_val)\n",
    "preprocess3(x3_test)"
   ]
  },
  {
   "cell_type": "code",
   "execution_count": 128,
   "metadata": {},
   "outputs": [
    {
     "data": {
      "text/plain": [
       "array([[-0.7934386 ,  0.41245076],\n",
       "       [-0.76312281,  0.35368268],\n",
       "       [-0.72189335,  0.32312327],\n",
       "       ...,\n",
       "       [ 1.48145784, -1.43051636],\n",
       "       [ 1.41597574, -1.44697142],\n",
       "       [ 1.35049365, -1.56920903]])"
      ]
     },
     "execution_count": 128,
     "metadata": {},
     "output_type": "execute_result"
    }
   ],
   "source": [
    "preprocess_output(y3_train)\n",
    "preprocess_output(y3_val)\n",
    "preprocess_output(y3_test)"
   ]
  },
  {
   "cell_type": "code",
   "execution_count": 129,
   "metadata": {},
   "outputs": [
    {
     "name": "stdout",
     "output_type": "stream",
     "text": [
      "Model: \"sequential_8\"\n",
      "_________________________________________________________________\n",
      " Layer (type)                Output Shape              Param #   \n",
      "=================================================================\n",
      " lstm_4 (LSTM)               (None, 64)                18176     \n",
      "                                                                 \n",
      " dense_16 (Dense)            (None, 8)                 520       \n",
      "                                                                 \n",
      " dense_17 (Dense)            (None, 2)                 18        \n",
      "                                                                 \n",
      "=================================================================\n",
      "Total params: 18,714\n",
      "Trainable params: 18,714\n",
      "Non-trainable params: 0\n",
      "_________________________________________________________________\n"
     ]
    }
   ],
   "source": [
    "model5 = Sequential()\n",
    "model5.add(InputLayer((7, 6)))\n",
    "model5.add(LSTM(64))\n",
    "model5.add(Dense(8, \"relu\"))\n",
    "model5.add(Dense(2, \"linear\"))\n",
    "\n",
    "model5.summary()"
   ]
  },
  {
   "cell_type": "code",
   "execution_count": 130,
   "metadata": {},
   "outputs": [],
   "source": [
    "cp5 = ModelCheckpoint(\"model5/\", save_best_only = True)\n",
    "model5.compile(loss = MeanSquaredError(), optimizer = Adam(learning_rate = 0.0001), metrics = [RootMeanSquaredError()])"
   ]
  },
  {
   "cell_type": "code",
   "execution_count": 131,
   "metadata": {},
   "outputs": [
    {
     "name": "stdout",
     "output_type": "stream",
     "text": [
      "Epoch 1/10\n",
      "1874/1875 [============================>.] - ETA: 0s - loss: 0.1501 - root_mean_squared_error: 0.3874"
     ]
    },
    {
     "name": "stderr",
     "output_type": "stream",
     "text": [
      "WARNING:absl:Found untraced functions such as _update_step_xla, lstm_cell_6_layer_call_fn, lstm_cell_6_layer_call_and_return_conditional_losses while saving (showing 3 of 3). These functions will not be directly callable after loading.\n"
     ]
    },
    {
     "name": "stdout",
     "output_type": "stream",
     "text": [
      "INFO:tensorflow:Assets written to: model5\\assets\n"
     ]
    },
    {
     "name": "stderr",
     "output_type": "stream",
     "text": [
      "INFO:tensorflow:Assets written to: model5\\assets\n"
     ]
    },
    {
     "name": "stdout",
     "output_type": "stream",
     "text": [
      "1875/1875 [==============================] - 22s 11ms/step - loss: 0.1501 - root_mean_squared_error: 0.3874 - val_loss: 0.0310 - val_root_mean_squared_error: 0.1762\n",
      "Epoch 2/10\n",
      "1871/1875 [============================>.] - ETA: 0s - loss: 0.0237 - root_mean_squared_error: 0.1541"
     ]
    },
    {
     "name": "stderr",
     "output_type": "stream",
     "text": [
      "WARNING:absl:Found untraced functions such as _update_step_xla, lstm_cell_6_layer_call_fn, lstm_cell_6_layer_call_and_return_conditional_losses while saving (showing 3 of 3). These functions will not be directly callable after loading.\n"
     ]
    },
    {
     "name": "stdout",
     "output_type": "stream",
     "text": [
      "INFO:tensorflow:Assets written to: model5\\assets\n"
     ]
    },
    {
     "name": "stderr",
     "output_type": "stream",
     "text": [
      "INFO:tensorflow:Assets written to: model5\\assets\n"
     ]
    },
    {
     "name": "stdout",
     "output_type": "stream",
     "text": [
      "1875/1875 [==============================] - 22s 12ms/step - loss: 0.0237 - root_mean_squared_error: 0.1541 - val_loss: 0.0155 - val_root_mean_squared_error: 0.1246\n",
      "Epoch 3/10\n",
      "1871/1875 [============================>.] - ETA: 0s - loss: 0.0121 - root_mean_squared_error: 0.1102"
     ]
    },
    {
     "name": "stderr",
     "output_type": "stream",
     "text": [
      "WARNING:absl:Found untraced functions such as _update_step_xla, lstm_cell_6_layer_call_fn, lstm_cell_6_layer_call_and_return_conditional_losses while saving (showing 3 of 3). These functions will not be directly callable after loading.\n"
     ]
    },
    {
     "name": "stdout",
     "output_type": "stream",
     "text": [
      "INFO:tensorflow:Assets written to: model5\\assets\n"
     ]
    },
    {
     "name": "stderr",
     "output_type": "stream",
     "text": [
      "INFO:tensorflow:Assets written to: model5\\assets\n"
     ]
    },
    {
     "name": "stdout",
     "output_type": "stream",
     "text": [
      "1875/1875 [==============================] - 32s 17ms/step - loss: 0.0121 - root_mean_squared_error: 0.1101 - val_loss: 0.0083 - val_root_mean_squared_error: 0.0913\n",
      "Epoch 4/10\n",
      "1874/1875 [============================>.] - ETA: 0s - loss: 0.0081 - root_mean_squared_error: 0.0902"
     ]
    },
    {
     "name": "stderr",
     "output_type": "stream",
     "text": [
      "WARNING:absl:Found untraced functions such as _update_step_xla, lstm_cell_6_layer_call_fn, lstm_cell_6_layer_call_and_return_conditional_losses while saving (showing 3 of 3). These functions will not be directly callable after loading.\n"
     ]
    },
    {
     "name": "stdout",
     "output_type": "stream",
     "text": [
      "INFO:tensorflow:Assets written to: model5\\assets\n"
     ]
    },
    {
     "name": "stderr",
     "output_type": "stream",
     "text": [
      "INFO:tensorflow:Assets written to: model5\\assets\n"
     ]
    },
    {
     "name": "stdout",
     "output_type": "stream",
     "text": [
      "1875/1875 [==============================] - 39s 21ms/step - loss: 0.0081 - root_mean_squared_error: 0.0902 - val_loss: 0.0061 - val_root_mean_squared_error: 0.0780\n",
      "Epoch 5/10\n",
      "1875/1875 [==============================] - ETA: 0s - loss: 0.0066 - root_mean_squared_error: 0.0815"
     ]
    },
    {
     "name": "stderr",
     "output_type": "stream",
     "text": [
      "WARNING:absl:Found untraced functions such as _update_step_xla, lstm_cell_6_layer_call_fn, lstm_cell_6_layer_call_and_return_conditional_losses while saving (showing 3 of 3). These functions will not be directly callable after loading.\n"
     ]
    },
    {
     "name": "stdout",
     "output_type": "stream",
     "text": [
      "INFO:tensorflow:Assets written to: model5\\assets\n"
     ]
    },
    {
     "name": "stderr",
     "output_type": "stream",
     "text": [
      "INFO:tensorflow:Assets written to: model5\\assets\n"
     ]
    },
    {
     "name": "stdout",
     "output_type": "stream",
     "text": [
      "1875/1875 [==============================] - 33s 17ms/step - loss: 0.0066 - root_mean_squared_error: 0.0815 - val_loss: 0.0050 - val_root_mean_squared_error: 0.0708\n",
      "Epoch 6/10\n",
      "1874/1875 [============================>.] - ETA: 0s - loss: 0.0058 - root_mean_squared_error: 0.0764"
     ]
    },
    {
     "name": "stderr",
     "output_type": "stream",
     "text": [
      "WARNING:absl:Found untraced functions such as _update_step_xla, lstm_cell_6_layer_call_fn, lstm_cell_6_layer_call_and_return_conditional_losses while saving (showing 3 of 3). These functions will not be directly callable after loading.\n"
     ]
    },
    {
     "name": "stdout",
     "output_type": "stream",
     "text": [
      "INFO:tensorflow:Assets written to: model5\\assets\n"
     ]
    },
    {
     "name": "stderr",
     "output_type": "stream",
     "text": [
      "INFO:tensorflow:Assets written to: model5\\assets\n"
     ]
    },
    {
     "name": "stdout",
     "output_type": "stream",
     "text": [
      "1875/1875 [==============================] - 28s 15ms/step - loss: 0.0058 - root_mean_squared_error: 0.0764 - val_loss: 0.0045 - val_root_mean_squared_error: 0.0669\n",
      "Epoch 7/10\n",
      "1871/1875 [============================>.] - ETA: 0s - loss: 0.0054 - root_mean_squared_error: 0.0733"
     ]
    },
    {
     "name": "stderr",
     "output_type": "stream",
     "text": [
      "WARNING:absl:Found untraced functions such as _update_step_xla, lstm_cell_6_layer_call_fn, lstm_cell_6_layer_call_and_return_conditional_losses while saving (showing 3 of 3). These functions will not be directly callable after loading.\n"
     ]
    },
    {
     "name": "stdout",
     "output_type": "stream",
     "text": [
      "INFO:tensorflow:Assets written to: model5\\assets\n"
     ]
    },
    {
     "name": "stderr",
     "output_type": "stream",
     "text": [
      "INFO:tensorflow:Assets written to: model5\\assets\n"
     ]
    },
    {
     "name": "stdout",
     "output_type": "stream",
     "text": [
      "1875/1875 [==============================] - 33s 18ms/step - loss: 0.0054 - root_mean_squared_error: 0.0733 - val_loss: 0.0041 - val_root_mean_squared_error: 0.0641\n",
      "Epoch 8/10\n",
      "1868/1875 [============================>.] - ETA: 0s - loss: 0.0052 - root_mean_squared_error: 0.0718"
     ]
    },
    {
     "name": "stderr",
     "output_type": "stream",
     "text": [
      "WARNING:absl:Found untraced functions such as _update_step_xla, lstm_cell_6_layer_call_fn, lstm_cell_6_layer_call_and_return_conditional_losses while saving (showing 3 of 3). These functions will not be directly callable after loading.\n"
     ]
    },
    {
     "name": "stdout",
     "output_type": "stream",
     "text": [
      "INFO:tensorflow:Assets written to: model5\\assets\n"
     ]
    },
    {
     "name": "stderr",
     "output_type": "stream",
     "text": [
      "INFO:tensorflow:Assets written to: model5\\assets\n"
     ]
    },
    {
     "name": "stdout",
     "output_type": "stream",
     "text": [
      "1875/1875 [==============================] - 22s 12ms/step - loss: 0.0052 - root_mean_squared_error: 0.0718 - val_loss: 0.0039 - val_root_mean_squared_error: 0.0628\n",
      "Epoch 9/10\n",
      "1872/1875 [============================>.] - ETA: 0s - loss: 0.0050 - root_mean_squared_error: 0.0709"
     ]
    },
    {
     "name": "stderr",
     "output_type": "stream",
     "text": [
      "WARNING:absl:Found untraced functions such as _update_step_xla, lstm_cell_6_layer_call_fn, lstm_cell_6_layer_call_and_return_conditional_losses while saving (showing 3 of 3). These functions will not be directly callable after loading.\n"
     ]
    },
    {
     "name": "stdout",
     "output_type": "stream",
     "text": [
      "INFO:tensorflow:Assets written to: model5\\assets\n"
     ]
    },
    {
     "name": "stderr",
     "output_type": "stream",
     "text": [
      "INFO:tensorflow:Assets written to: model5\\assets\n"
     ]
    },
    {
     "name": "stdout",
     "output_type": "stream",
     "text": [
      "1875/1875 [==============================] - 32s 17ms/step - loss: 0.0050 - root_mean_squared_error: 0.0709 - val_loss: 0.0038 - val_root_mean_squared_error: 0.0615\n",
      "Epoch 10/10\n",
      "1873/1875 [============================>.] - ETA: 0s - loss: 0.0049 - root_mean_squared_error: 0.0703"
     ]
    },
    {
     "name": "stderr",
     "output_type": "stream",
     "text": [
      "WARNING:absl:Found untraced functions such as _update_step_xla, lstm_cell_6_layer_call_fn, lstm_cell_6_layer_call_and_return_conditional_losses while saving (showing 3 of 3). These functions will not be directly callable after loading.\n"
     ]
    },
    {
     "name": "stdout",
     "output_type": "stream",
     "text": [
      "INFO:tensorflow:Assets written to: model5\\assets\n"
     ]
    },
    {
     "name": "stderr",
     "output_type": "stream",
     "text": [
      "INFO:tensorflow:Assets written to: model5\\assets\n"
     ]
    },
    {
     "name": "stdout",
     "output_type": "stream",
     "text": [
      "1875/1875 [==============================] - 34s 18ms/step - loss: 0.0049 - root_mean_squared_error: 0.0703 - val_loss: 0.0037 - val_root_mean_squared_error: 0.0609\n"
     ]
    },
    {
     "data": {
      "text/plain": [
       "<keras.callbacks.History at 0x2058cb9f7f0>"
      ]
     },
     "execution_count": 131,
     "metadata": {},
     "output_type": "execute_result"
    }
   ],
   "source": [
    "model5.fit(x3_train, y3_train, validation_data = (x3_val, y3_val), epochs = 10, callbacks = [cp5])"
   ]
  },
  {
   "cell_type": "code",
   "execution_count": 132,
   "metadata": {},
   "outputs": [],
   "source": [
    "def plot_predictions2(model, x, y, start = 0, end = 100):\n",
    "    predictions = model.predict(x)\n",
    "    p_preds, temp_preds = predictions[:, 0], predictions[:, 1]\n",
    "    p_actuals, temp_actuals = y[:, 0], y[:, 1]\n",
    "    df = pd.DataFrame(data = {\"Temperature Predictions\" : temp_preds,\n",
    "                                \"Temperature Actuals\" : temp_actuals,\n",
    "                                \"Pressure Predictions\" : p_preds,\n",
    "                                \"Pressure Actuals\" : p_actuals\n",
    "                                })\n",
    "    plt.plot(df[\"Temperature Predictions\"][start:end])\n",
    "    plt.plot(df[\"Temperature Actuals\"][start:end])\n",
    "    plt.plot(df[\"Pressure Predictions\"][start:end])\n",
    "    plt.plot(df[\"Pressure Actuals\"][start:end])\n",
    "    return df[start:end]"
   ]
  },
  {
   "cell_type": "code",
   "execution_count": 133,
   "metadata": {},
   "outputs": [
    {
     "name": "stdout",
     "output_type": "stream",
     "text": [
      "159/159 [==============================] - 1s 4ms/step\n"
     ]
    },
    {
     "data": {
      "text/html": [
       "<div>\n",
       "<style scoped>\n",
       "    .dataframe tbody tr th:only-of-type {\n",
       "        vertical-align: middle;\n",
       "    }\n",
       "\n",
       "    .dataframe tbody tr th {\n",
       "        vertical-align: top;\n",
       "    }\n",
       "\n",
       "    .dataframe thead th {\n",
       "        text-align: right;\n",
       "    }\n",
       "</style>\n",
       "<table border=\"1\" class=\"dataframe\">\n",
       "  <thead>\n",
       "    <tr style=\"text-align: right;\">\n",
       "      <th></th>\n",
       "      <th>Temperature Predictions</th>\n",
       "      <th>Temperature Actuals</th>\n",
       "      <th>Pressure Predictions</th>\n",
       "      <th>Pressure Actuals</th>\n",
       "    </tr>\n",
       "  </thead>\n",
       "  <tbody>\n",
       "    <tr>\n",
       "      <th>0</th>\n",
       "      <td>0.393415</td>\n",
       "      <td>0.412451</td>\n",
       "      <td>-0.776627</td>\n",
       "      <td>-0.793439</td>\n",
       "    </tr>\n",
       "    <tr>\n",
       "      <th>1</th>\n",
       "      <td>0.345778</td>\n",
       "      <td>0.353683</td>\n",
       "      <td>-0.764041</td>\n",
       "      <td>-0.763123</td>\n",
       "    </tr>\n",
       "    <tr>\n",
       "      <th>2</th>\n",
       "      <td>0.304421</td>\n",
       "      <td>0.323123</td>\n",
       "      <td>-0.729798</td>\n",
       "      <td>-0.721893</td>\n",
       "    </tr>\n",
       "    <tr>\n",
       "      <th>3</th>\n",
       "      <td>0.302810</td>\n",
       "      <td>0.250251</td>\n",
       "      <td>-0.680838</td>\n",
       "      <td>-0.652773</td>\n",
       "    </tr>\n",
       "    <tr>\n",
       "      <th>4</th>\n",
       "      <td>0.257584</td>\n",
       "      <td>0.254952</td>\n",
       "      <td>-0.595002</td>\n",
       "      <td>-0.652773</td>\n",
       "    </tr>\n",
       "    <tr>\n",
       "      <th>...</th>\n",
       "      <td>...</td>\n",
       "      <td>...</td>\n",
       "      <td>...</td>\n",
       "      <td>...</td>\n",
       "    </tr>\n",
       "    <tr>\n",
       "      <th>95</th>\n",
       "      <td>0.685516</td>\n",
       "      <td>0.716869</td>\n",
       "      <td>-0.405068</td>\n",
       "      <td>-0.416310</td>\n",
       "    </tr>\n",
       "    <tr>\n",
       "      <th>96</th>\n",
       "      <td>0.643362</td>\n",
       "      <td>0.687485</td>\n",
       "      <td>-0.403498</td>\n",
       "      <td>-0.399333</td>\n",
       "    </tr>\n",
       "    <tr>\n",
       "      <th>97</th>\n",
       "      <td>0.625065</td>\n",
       "      <td>0.663978</td>\n",
       "      <td>-0.387374</td>\n",
       "      <td>-0.399333</td>\n",
       "    </tr>\n",
       "    <tr>\n",
       "      <th>98</th>\n",
       "      <td>0.621113</td>\n",
       "      <td>0.641646</td>\n",
       "      <td>-0.379484</td>\n",
       "      <td>-0.400546</td>\n",
       "    </tr>\n",
       "    <tr>\n",
       "      <th>99</th>\n",
       "      <td>0.631543</td>\n",
       "      <td>0.653400</td>\n",
       "      <td>-0.372245</td>\n",
       "      <td>-0.369018</td>\n",
       "    </tr>\n",
       "  </tbody>\n",
       "</table>\n",
       "<p>100 rows × 4 columns</p>\n",
       "</div>"
      ],
      "text/plain": [
       "    Temperature Predictions  Temperature Actuals  Pressure Predictions  \\\n",
       "0                  0.393415             0.412451             -0.776627   \n",
       "1                  0.345778             0.353683             -0.764041   \n",
       "2                  0.304421             0.323123             -0.729798   \n",
       "3                  0.302810             0.250251             -0.680838   \n",
       "4                  0.257584             0.254952             -0.595002   \n",
       "..                      ...                  ...                   ...   \n",
       "95                 0.685516             0.716869             -0.405068   \n",
       "96                 0.643362             0.687485             -0.403498   \n",
       "97                 0.625065             0.663978             -0.387374   \n",
       "98                 0.621113             0.641646             -0.379484   \n",
       "99                 0.631543             0.653400             -0.372245   \n",
       "\n",
       "    Pressure Actuals  \n",
       "0          -0.793439  \n",
       "1          -0.763123  \n",
       "2          -0.721893  \n",
       "3          -0.652773  \n",
       "4          -0.652773  \n",
       "..               ...  \n",
       "95         -0.416310  \n",
       "96         -0.399333  \n",
       "97         -0.399333  \n",
       "98         -0.400546  \n",
       "99         -0.369018  \n",
       "\n",
       "[100 rows x 4 columns]"
      ]
     },
     "execution_count": 133,
     "metadata": {},
     "output_type": "execute_result"
    },
    {
     "data": {
      "image/png": "[encoded data removed]",
      "text/plain": [
       "<Figure size 640x480 with 1 Axes>"
      ]
     },
     "metadata": {},
     "output_type": "display_data"
    }
   ],
   "source": [
    "plot_predictions2(model5, x3_test, y3_test)"
   ]
  },
  {
   "cell_type": "code",
   "execution_count": 134,
   "metadata": {},
   "outputs": [],
   "source": [
    "def postprocess_temp(arr):\n",
    "    arr = (arr * temp_training_std3) + temp_training_mean3\n",
    "    return arr\n",
    "\n",
    "def postprocess_p(arr):\n",
    "    arr = (arr * p_training_std3) + p_training_mean3\n",
    "    return arr"
   ]
  },
  {
   "cell_type": "code",
   "execution_count": 135,
   "metadata": {},
   "outputs": [],
   "source": [
    "def plot_predictions2(model, x, y, start = 0, end = 100):\n",
    "    predictions = model.predict(x)\n",
    "    p_preds, temp_preds = postprocess_p(predictions[:, 0]), postprocess_temp(predictions[:, 1])\n",
    "    p_actuals, temp_actuals = postprocess_p(y[:, 0]), postprocess_temp(y[:, 1])\n",
    "    df = pd.DataFrame(data = {\"Temperature Predictions\" : temp_preds,\n",
    "                                \"Temperature Actuals\" : temp_actuals,\n",
    "                                \"Pressure Predictions\" : p_preds,\n",
    "                                \"Pressure Actuals\" : p_actuals\n",
    "                                })\n",
    "    plt.plot(df[\"Temperature Predictions\"][start:end])\n",
    "    plt.plot(df[\"Temperature Actuals\"][start:end])\n",
    "    plt.plot(df[\"Pressure Predictions\"][start:end])\n",
    "    plt.plot(df[\"Pressure Actuals\"][start:end])\n",
    "    return df[start:end]"
   ]
  },
  {
   "cell_type": "code",
   "execution_count": 136,
   "metadata": {},
   "outputs": [
    {
     "name": "stdout",
     "output_type": "stream",
     "text": [
      "159/159 [==============================] - 2s 11ms/step\n"
     ]
    },
    {
     "data": {
      "text/html": [
       "<div>\n",
       "<style scoped>\n",
       "    .dataframe tbody tr th:only-of-type {\n",
       "        vertical-align: middle;\n",
       "    }\n",
       "\n",
       "    .dataframe tbody tr th {\n",
       "        vertical-align: top;\n",
       "    }\n",
       "\n",
       "    .dataframe thead th {\n",
       "        text-align: right;\n",
       "    }\n",
       "</style>\n",
       "<table border=\"1\" class=\"dataframe\">\n",
       "  <thead>\n",
       "    <tr style=\"text-align: right;\">\n",
       "      <th></th>\n",
       "      <th>Temperature Predictions</th>\n",
       "      <th>Temperature Actuals</th>\n",
       "      <th>Pressure Predictions</th>\n",
       "      <th>Pressure Actuals</th>\n",
       "    </tr>\n",
       "  </thead>\n",
       "  <tbody>\n",
       "    <tr>\n",
       "      <th>0</th>\n",
       "      <td>12.768041</td>\n",
       "      <td>12.93</td>\n",
       "      <td>982.568665</td>\n",
       "      <td>982.43</td>\n",
       "    </tr>\n",
       "    <tr>\n",
       "      <th>1</th>\n",
       "      <td>12.362745</td>\n",
       "      <td>12.43</td>\n",
       "      <td>982.672485</td>\n",
       "      <td>982.68</td>\n",
       "    </tr>\n",
       "    <tr>\n",
       "      <th>2</th>\n",
       "      <td>12.010878</td>\n",
       "      <td>12.17</td>\n",
       "      <td>982.954834</td>\n",
       "      <td>983.02</td>\n",
       "    </tr>\n",
       "    <tr>\n",
       "      <th>3</th>\n",
       "      <td>11.997174</td>\n",
       "      <td>11.55</td>\n",
       "      <td>983.358582</td>\n",
       "      <td>983.59</td>\n",
       "    </tr>\n",
       "    <tr>\n",
       "      <th>4</th>\n",
       "      <td>11.612394</td>\n",
       "      <td>11.59</td>\n",
       "      <td>984.066467</td>\n",
       "      <td>983.59</td>\n",
       "    </tr>\n",
       "    <tr>\n",
       "      <th>...</th>\n",
       "      <td>...</td>\n",
       "      <td>...</td>\n",
       "      <td>...</td>\n",
       "      <td>...</td>\n",
       "    </tr>\n",
       "    <tr>\n",
       "      <th>95</th>\n",
       "      <td>15.253242</td>\n",
       "      <td>15.52</td>\n",
       "      <td>985.632751</td>\n",
       "      <td>985.54</td>\n",
       "    </tr>\n",
       "    <tr>\n",
       "      <th>96</th>\n",
       "      <td>14.894601</td>\n",
       "      <td>15.27</td>\n",
       "      <td>985.645691</td>\n",
       "      <td>985.68</td>\n",
       "    </tr>\n",
       "    <tr>\n",
       "      <th>97</th>\n",
       "      <td>14.738930</td>\n",
       "      <td>15.07</td>\n",
       "      <td>985.778625</td>\n",
       "      <td>985.68</td>\n",
       "    </tr>\n",
       "    <tr>\n",
       "      <th>98</th>\n",
       "      <td>14.705301</td>\n",
       "      <td>14.88</td>\n",
       "      <td>985.843689</td>\n",
       "      <td>985.67</td>\n",
       "    </tr>\n",
       "    <tr>\n",
       "      <th>99</th>\n",
       "      <td>14.794043</td>\n",
       "      <td>14.98</td>\n",
       "      <td>985.903442</td>\n",
       "      <td>985.93</td>\n",
       "    </tr>\n",
       "  </tbody>\n",
       "</table>\n",
       "<p>100 rows × 4 columns</p>\n",
       "</div>"
      ],
      "text/plain": [
       "    Temperature Predictions  Temperature Actuals  Pressure Predictions  \\\n",
       "0                 12.768041                12.93            982.568665   \n",
       "1                 12.362745                12.43            982.672485   \n",
       "2                 12.010878                12.17            982.954834   \n",
       "3                 11.997174                11.55            983.358582   \n",
       "4                 11.612394                11.59            984.066467   \n",
       "..                      ...                  ...                   ...   \n",
       "95                15.253242                15.52            985.632751   \n",
       "96                14.894601                15.27            985.645691   \n",
       "97                14.738930                15.07            985.778625   \n",
       "98                14.705301                14.88            985.843689   \n",
       "99                14.794043                14.98            985.903442   \n",
       "\n",
       "    Pressure Actuals  \n",
       "0             982.43  \n",
       "1             982.68  \n",
       "2             983.02  \n",
       "3             983.59  \n",
       "4             983.59  \n",
       "..               ...  \n",
       "95            985.54  \n",
       "96            985.68  \n",
       "97            985.68  \n",
       "98            985.67  \n",
       "99            985.93  \n",
       "\n",
       "[100 rows x 4 columns]"
      ]
     },
     "execution_count": 136,
     "metadata": {},
     "output_type": "execute_result"
    },
    {
     "data": {
      "image/png": "[encoded data removed]",
      "text/plain": [
       "<Figure size 640x480 with 1 Axes>"
      ]
     },
     "metadata": {},
     "output_type": "display_data"
    }
   ],
   "source": [
    "post_processed_df = plot_predictions2(model5, x3_test, y3_test)\n",
    "post_processed_df"
   ]
  },
  {
   "cell_type": "code",
   "execution_count": 137,
   "metadata": {},
   "outputs": [
    {
     "data": {
      "text/plain": [
       "[<matplotlib.lines.Line2D at 0x205c06ab190>]"
      ]
     },
     "execution_count": 137,
     "metadata": {},
     "output_type": "execute_result"
    },
    {
     "data": {
      "image/png": "[encoded data removed]",
      "text/plain": [
       "<Figure size 640x480 with 1 Axes>"
      ]
     },
     "metadata": {},
     "output_type": "display_data"
    }
   ],
   "source": [
    "start, end = 0, 100\n",
    "plt.plot(post_processed_df[\"Temperature Predictions\"][start:end])\n",
    "plt.plot(post_processed_df[\"Temperature Actuals\"][start:end])"
   ]
  },
  {
   "cell_type": "code",
   "execution_count": 138,
   "metadata": {},
   "outputs": [
    {
     "data": {
      "text/plain": [
       "[<matplotlib.lines.Line2D at 0x205c0561040>]"
      ]
     },
     "execution_count": 138,
     "metadata": {},
     "output_type": "execute_result"
    },
    {
     "data": {
      "image/png": "[encoded data removed]",
      "text/plain": [
       "<Figure size 640x480 with 1 Axes>"
      ]
     },
     "metadata": {},
     "output_type": "display_data"
    }
   ],
   "source": [
    "plt.plot(post_processed_df[\"Pressure Predictions\"][start:end])\n",
    "plt.plot(post_processed_df[\"Pressure Actuals\"][start:end])"
   ]
  },
  {
   "cell_type": "code",
   "execution_count": 139,
   "metadata": {},
   "outputs": [
    {
     "name": "stdout",
     "output_type": "stream",
     "text": [
      "Model: \"sequential_9\"\n",
      "_________________________________________________________________\n",
      " Layer (type)                Output Shape              Param #   \n",
      "=================================================================\n",
      " lstm_5 (LSTM)               (None, 7, 32)             4992      \n",
      "                                                                 \n",
      " lstm_6 (LSTM)               (None, 64)                24832     \n",
      "                                                                 \n",
      " dense_18 (Dense)            (None, 8)                 520       \n",
      "                                                                 \n",
      " dense_19 (Dense)            (None, 2)                 18        \n",
      "                                                                 \n",
      "=================================================================\n",
      "Total params: 30,362\n",
      "Trainable params: 30,362\n",
      "Non-trainable params: 0\n",
      "_________________________________________________________________\n"
     ]
    }
   ],
   "source": [
    "model6 = Sequential()\n",
    "model6.add(InputLayer((7, 6)))\n",
    "model6.add(LSTM(32, return_sequences = True))\n",
    "model6.add(LSTM(64))\n",
    "model6.add(Dense(8, \"relu\"))\n",
    "model6.add(Dense(2, \"linear\"))\n",
    "\n",
    "model6.summary()"
   ]
  },
  {
   "cell_type": "code",
   "execution_count": 140,
   "metadata": {},
   "outputs": [],
   "source": [
    "cp6 = ModelCheckpoint(\"model6/\", save_best_only = True)\n",
    "model6.compile(loss = MeanSquaredError(), optimizer = Adam(learning_rate = 0.0001), metrics = [RootMeanSquaredError()])"
   ]
  },
  {
   "cell_type": "code",
   "execution_count": 141,
   "metadata": {},
   "outputs": [
    {
     "name": "stdout",
     "output_type": "stream",
     "text": [
      "Epoch 1/10\n",
      "1875/1875 [==============================] - ETA: 0s - loss: 0.1505 - root_mean_squared_error: 0.3879"
     ]
    },
    {
     "name": "stderr",
     "output_type": "stream",
     "text": [
      "WARNING:absl:Found untraced functions such as _update_step_xla, lstm_cell_7_layer_call_fn, lstm_cell_7_layer_call_and_return_conditional_losses, lstm_cell_8_layer_call_fn, lstm_cell_8_layer_call_and_return_conditional_losses while saving (showing 5 of 5). These functions will not be directly callable after loading.\n"
     ]
    },
    {
     "name": "stdout",
     "output_type": "stream",
     "text": [
      "INFO:tensorflow:Assets written to: model6\\assets\n"
     ]
    },
    {
     "name": "stderr",
     "output_type": "stream",
     "text": [
      "INFO:tensorflow:Assets written to: model6\\assets\n"
     ]
    },
    {
     "name": "stdout",
     "output_type": "stream",
     "text": [
      "1875/1875 [==============================] - 90s 43ms/step - loss: 0.1505 - root_mean_squared_error: 0.3879 - val_loss: 0.0429 - val_root_mean_squared_error: 0.2070\n",
      "Epoch 2/10\n",
      "1875/1875 [==============================] - ETA: 0s - loss: 0.0331 - root_mean_squared_error: 0.1819"
     ]
    },
    {
     "name": "stderr",
     "output_type": "stream",
     "text": [
      "WARNING:absl:Found untraced functions such as _update_step_xla, lstm_cell_7_layer_call_fn, lstm_cell_7_layer_call_and_return_conditional_losses, lstm_cell_8_layer_call_fn, lstm_cell_8_layer_call_and_return_conditional_losses while saving (showing 5 of 5). These functions will not be directly callable after loading.\n"
     ]
    },
    {
     "name": "stdout",
     "output_type": "stream",
     "text": [
      "INFO:tensorflow:Assets written to: model6\\assets\n"
     ]
    },
    {
     "name": "stderr",
     "output_type": "stream",
     "text": [
      "INFO:tensorflow:Assets written to: model6\\assets\n"
     ]
    },
    {
     "name": "stdout",
     "output_type": "stream",
     "text": [
      "1875/1875 [==============================] - 51s 27ms/step - loss: 0.0331 - root_mean_squared_error: 0.1819 - val_loss: 0.0248 - val_root_mean_squared_error: 0.1576\n",
      "Epoch 3/10\n",
      "1873/1875 [============================>.] - ETA: 0s - loss: 0.0190 - root_mean_squared_error: 0.1377"
     ]
    },
    {
     "name": "stderr",
     "output_type": "stream",
     "text": [
      "WARNING:absl:Found untraced functions such as _update_step_xla, lstm_cell_7_layer_call_fn, lstm_cell_7_layer_call_and_return_conditional_losses, lstm_cell_8_layer_call_fn, lstm_cell_8_layer_call_and_return_conditional_losses while saving (showing 5 of 5). These functions will not be directly callable after loading.\n"
     ]
    },
    {
     "name": "stdout",
     "output_type": "stream",
     "text": [
      "INFO:tensorflow:Assets written to: model6\\assets\n"
     ]
    },
    {
     "name": "stderr",
     "output_type": "stream",
     "text": [
      "INFO:tensorflow:Assets written to: model6\\assets\n"
     ]
    },
    {
     "name": "stdout",
     "output_type": "stream",
     "text": [
      "1875/1875 [==============================] - 49s 26ms/step - loss: 0.0190 - root_mean_squared_error: 0.1377 - val_loss: 0.0134 - val_root_mean_squared_error: 0.1156\n",
      "Epoch 4/10\n",
      "1873/1875 [============================>.] - ETA: 0s - loss: 0.0118 - root_mean_squared_error: 0.1085"
     ]
    },
    {
     "name": "stderr",
     "output_type": "stream",
     "text": [
      "WARNING:absl:Found untraced functions such as _update_step_xla, lstm_cell_7_layer_call_fn, lstm_cell_7_layer_call_and_return_conditional_losses, lstm_cell_8_layer_call_fn, lstm_cell_8_layer_call_and_return_conditional_losses while saving (showing 5 of 5). These functions will not be directly callable after loading.\n"
     ]
    },
    {
     "name": "stdout",
     "output_type": "stream",
     "text": [
      "INFO:tensorflow:Assets written to: model6\\assets\n"
     ]
    },
    {
     "name": "stderr",
     "output_type": "stream",
     "text": [
      "INFO:tensorflow:Assets written to: model6\\assets\n"
     ]
    },
    {
     "name": "stdout",
     "output_type": "stream",
     "text": [
      "1875/1875 [==============================] - 48s 26ms/step - loss: 0.0118 - root_mean_squared_error: 0.1085 - val_loss: 0.0088 - val_root_mean_squared_error: 0.0940\n",
      "Epoch 5/10\n",
      "1874/1875 [============================>.] - ETA: 0s - loss: 0.0087 - root_mean_squared_error: 0.0931"
     ]
    },
    {
     "name": "stderr",
     "output_type": "stream",
     "text": [
      "WARNING:absl:Found untraced functions such as _update_step_xla, lstm_cell_7_layer_call_fn, lstm_cell_7_layer_call_and_return_conditional_losses, lstm_cell_8_layer_call_fn, lstm_cell_8_layer_call_and_return_conditional_losses while saving (showing 5 of 5). These functions will not be directly callable after loading.\n"
     ]
    },
    {
     "name": "stdout",
     "output_type": "stream",
     "text": [
      "INFO:tensorflow:Assets written to: model6\\assets\n"
     ]
    },
    {
     "name": "stderr",
     "output_type": "stream",
     "text": [
      "INFO:tensorflow:Assets written to: model6\\assets\n"
     ]
    },
    {
     "name": "stdout",
     "output_type": "stream",
     "text": [
      "1875/1875 [==============================] - 45s 24ms/step - loss: 0.0087 - root_mean_squared_error: 0.0931 - val_loss: 0.0068 - val_root_mean_squared_error: 0.0826\n",
      "Epoch 6/10\n",
      "1873/1875 [============================>.] - ETA: 0s - loss: 0.0071 - root_mean_squared_error: 0.0843"
     ]
    },
    {
     "name": "stderr",
     "output_type": "stream",
     "text": [
      "WARNING:absl:Found untraced functions such as _update_step_xla, lstm_cell_7_layer_call_fn, lstm_cell_7_layer_call_and_return_conditional_losses, lstm_cell_8_layer_call_fn, lstm_cell_8_layer_call_and_return_conditional_losses while saving (showing 5 of 5). These functions will not be directly callable after loading.\n"
     ]
    },
    {
     "name": "stdout",
     "output_type": "stream",
     "text": [
      "INFO:tensorflow:Assets written to: model6\\assets\n"
     ]
    },
    {
     "name": "stderr",
     "output_type": "stream",
     "text": [
      "INFO:tensorflow:Assets written to: model6\\assets\n"
     ]
    },
    {
     "name": "stdout",
     "output_type": "stream",
     "text": [
      "1875/1875 [==============================] - 39s 21ms/step - loss: 0.0071 - root_mean_squared_error: 0.0843 - val_loss: 0.0055 - val_root_mean_squared_error: 0.0741\n",
      "Epoch 7/10\n",
      "1874/1875 [============================>.] - ETA: 0s - loss: 0.0061 - root_mean_squared_error: 0.0784"
     ]
    },
    {
     "name": "stderr",
     "output_type": "stream",
     "text": [
      "WARNING:absl:Found untraced functions such as _update_step_xla, lstm_cell_7_layer_call_fn, lstm_cell_7_layer_call_and_return_conditional_losses, lstm_cell_8_layer_call_fn, lstm_cell_8_layer_call_and_return_conditional_losses while saving (showing 5 of 5). These functions will not be directly callable after loading.\n"
     ]
    },
    {
     "name": "stdout",
     "output_type": "stream",
     "text": [
      "INFO:tensorflow:Assets written to: model6\\assets\n"
     ]
    },
    {
     "name": "stderr",
     "output_type": "stream",
     "text": [
      "INFO:tensorflow:Assets written to: model6\\assets\n"
     ]
    },
    {
     "name": "stdout",
     "output_type": "stream",
     "text": [
      "1875/1875 [==============================] - 48s 26ms/step - loss: 0.0061 - root_mean_squared_error: 0.0784 - val_loss: 0.0047 - val_root_mean_squared_error: 0.0684\n",
      "Epoch 8/10\n",
      "1875/1875 [==============================] - 26s 14ms/step - loss: 0.0057 - root_mean_squared_error: 0.0756 - val_loss: 0.0049 - val_root_mean_squared_error: 0.0701\n",
      "Epoch 9/10\n",
      "1875/1875 [==============================] - ETA: 0s - loss: 0.0055 - root_mean_squared_error: 0.0741"
     ]
    },
    {
     "name": "stderr",
     "output_type": "stream",
     "text": [
      "WARNING:absl:Found untraced functions such as _update_step_xla, lstm_cell_7_layer_call_fn, lstm_cell_7_layer_call_and_return_conditional_losses, lstm_cell_8_layer_call_fn, lstm_cell_8_layer_call_and_return_conditional_losses while saving (showing 5 of 5). These functions will not be directly callable after loading.\n"
     ]
    },
    {
     "name": "stdout",
     "output_type": "stream",
     "text": [
      "INFO:tensorflow:Assets written to: model6\\assets\n"
     ]
    },
    {
     "name": "stderr",
     "output_type": "stream",
     "text": [
      "INFO:tensorflow:Assets written to: model6\\assets\n"
     ]
    },
    {
     "name": "stdout",
     "output_type": "stream",
     "text": [
      "1875/1875 [==============================] - 45s 24ms/step - loss: 0.0055 - root_mean_squared_error: 0.0741 - val_loss: 0.0044 - val_root_mean_squared_error: 0.0660\n",
      "Epoch 10/10\n",
      "1874/1875 [============================>.] - ETA: 0s - loss: 0.0053 - root_mean_squared_error: 0.0731"
     ]
    },
    {
     "name": "stderr",
     "output_type": "stream",
     "text": [
      "WARNING:absl:Found untraced functions such as _update_step_xla, lstm_cell_7_layer_call_fn, lstm_cell_7_layer_call_and_return_conditional_losses, lstm_cell_8_layer_call_fn, lstm_cell_8_layer_call_and_return_conditional_losses while saving (showing 5 of 5). These functions will not be directly callable after loading.\n"
     ]
    },
    {
     "name": "stdout",
     "output_type": "stream",
     "text": [
      "INFO:tensorflow:Assets written to: model6\\assets\n"
     ]
    },
    {
     "name": "stderr",
     "output_type": "stream",
     "text": [
      "INFO:tensorflow:Assets written to: model6\\assets\n"
     ]
    },
    {
     "name": "stdout",
     "output_type": "stream",
     "text": [
      "1875/1875 [==============================] - 35s 19ms/step - loss: 0.0053 - root_mean_squared_error: 0.0731 - val_loss: 0.0042 - val_root_mean_squared_error: 0.0649\n"
     ]
    },
    {
     "data": {
      "text/plain": [
       "<keras.callbacks.History at 0x205c07021f0>"
      ]
     },
     "execution_count": 141,
     "metadata": {},
     "output_type": "execute_result"
    }
   ],
   "source": [
    "model6.fit(x3_train, y3_train, validation_data = (x3_val, y3_val), epochs = 10, callbacks = [cp6])"
   ]
  },
  {
   "attachments": {},
   "cell_type": "markdown",
   "metadata": {},
   "source": [
    "# Conv1D"
   ]
  },
  {
   "cell_type": "code",
   "execution_count": 142,
   "metadata": {},
   "outputs": [
    {
     "name": "stdout",
     "output_type": "stream",
     "text": [
      "Model: \"sequential_10\"\n",
      "_________________________________________________________________\n",
      " Layer (type)                Output Shape              Param #   \n",
      "=================================================================\n",
      " conv1d_2 (Conv1D)           (None, 6, 64)             832       \n",
      "                                                                 \n",
      " flatten_2 (Flatten)         (None, 384)               0         \n",
      "                                                                 \n",
      " dense_20 (Dense)            (None, 8)                 3080      \n",
      "                                                                 \n",
      " dense_21 (Dense)            (None, 2)                 18        \n",
      "                                                                 \n",
      "=================================================================\n",
      "Total params: 3,930\n",
      "Trainable params: 3,930\n",
      "Non-trainable params: 0\n",
      "_________________________________________________________________\n",
      "None\n",
      "Epoch 1/10\n",
      "1841/1875 [============================>.] - ETA: 0s - loss: 0.2103 - root_mean_squared_error: 0.4586"
     ]
    },
    {
     "name": "stderr",
     "output_type": "stream",
     "text": [
      "WARNING:absl:Found untraced functions such as _jit_compiled_convolution_op, _update_step_xla while saving (showing 2 of 2). These functions will not be directly callable after loading.\n"
     ]
    },
    {
     "name": "stdout",
     "output_type": "stream",
     "text": [
      "INFO:tensorflow:Assets written to: model7\\assets\n"
     ]
    },
    {
     "name": "stderr",
     "output_type": "stream",
     "text": [
      "INFO:tensorflow:Assets written to: model7\\assets\n"
     ]
    },
    {
     "name": "stdout",
     "output_type": "stream",
     "text": [
      "1875/1875 [==============================] - 5s 2ms/step - loss: 0.2071 - root_mean_squared_error: 0.4550 - val_loss: 0.0267 - val_root_mean_squared_error: 0.1633\n",
      "Epoch 2/10\n",
      "1866/1875 [============================>.] - ETA: 0s - loss: 0.0185 - root_mean_squared_error: 0.1360"
     ]
    },
    {
     "name": "stderr",
     "output_type": "stream",
     "text": [
      "WARNING:absl:Found untraced functions such as _jit_compiled_convolution_op, _update_step_xla while saving (showing 2 of 2). These functions will not be directly callable after loading.\n"
     ]
    },
    {
     "name": "stdout",
     "output_type": "stream",
     "text": [
      "INFO:tensorflow:Assets written to: model7\\assets\n"
     ]
    },
    {
     "name": "stderr",
     "output_type": "stream",
     "text": [
      "INFO:tensorflow:Assets written to: model7\\assets\n"
     ]
    },
    {
     "name": "stdout",
     "output_type": "stream",
     "text": [
      "1875/1875 [==============================] - 4s 2ms/step - loss: 0.0185 - root_mean_squared_error: 0.1359 - val_loss: 0.0119 - val_root_mean_squared_error: 0.1091\n",
      "Epoch 3/10\n",
      "1860/1875 [============================>.] - ETA: 0s - loss: 0.0108 - root_mean_squared_error: 0.1041"
     ]
    },
    {
     "name": "stderr",
     "output_type": "stream",
     "text": [
      "WARNING:absl:Found untraced functions such as _jit_compiled_convolution_op, _update_step_xla while saving (showing 2 of 2). These functions will not be directly callable after loading.\n"
     ]
    },
    {
     "name": "stdout",
     "output_type": "stream",
     "text": [
      "INFO:tensorflow:Assets written to: model7\\assets\n"
     ]
    },
    {
     "name": "stderr",
     "output_type": "stream",
     "text": [
      "INFO:tensorflow:Assets written to: model7\\assets\n"
     ]
    },
    {
     "name": "stdout",
     "output_type": "stream",
     "text": [
      "1875/1875 [==============================] - 4s 2ms/step - loss: 0.0108 - root_mean_squared_error: 0.1040 - val_loss: 0.0083 - val_root_mean_squared_error: 0.0913\n",
      "Epoch 4/10\n",
      "1851/1875 [============================>.] - ETA: 0s - loss: 0.0079 - root_mean_squared_error: 0.0890"
     ]
    },
    {
     "name": "stderr",
     "output_type": "stream",
     "text": [
      "WARNING:absl:Found untraced functions such as _jit_compiled_convolution_op, _update_step_xla while saving (showing 2 of 2). These functions will not be directly callable after loading.\n"
     ]
    },
    {
     "name": "stdout",
     "output_type": "stream",
     "text": [
      "INFO:tensorflow:Assets written to: model7\\assets\n"
     ]
    },
    {
     "name": "stderr",
     "output_type": "stream",
     "text": [
      "INFO:tensorflow:Assets written to: model7\\assets\n"
     ]
    },
    {
     "name": "stdout",
     "output_type": "stream",
     "text": [
      "1875/1875 [==============================] - 4s 2ms/step - loss: 0.0084 - root_mean_squared_error: 0.0917 - val_loss: 0.0078 - val_root_mean_squared_error: 0.0885\n",
      "Epoch 5/10\n",
      "1873/1875 [============================>.] - ETA: 0s - loss: 0.0073 - root_mean_squared_error: 0.0852"
     ]
    },
    {
     "name": "stderr",
     "output_type": "stream",
     "text": [
      "WARNING:absl:Found untraced functions such as _jit_compiled_convolution_op, _update_step_xla while saving (showing 2 of 2). These functions will not be directly callable after loading.\n"
     ]
    },
    {
     "name": "stdout",
     "output_type": "stream",
     "text": [
      "INFO:tensorflow:Assets written to: model7\\assets\n"
     ]
    },
    {
     "name": "stderr",
     "output_type": "stream",
     "text": [
      "INFO:tensorflow:Assets written to: model7\\assets\n"
     ]
    },
    {
     "name": "stdout",
     "output_type": "stream",
     "text": [
      "1875/1875 [==============================] - 4s 2ms/step - loss: 0.0073 - root_mean_squared_error: 0.0852 - val_loss: 0.0060 - val_root_mean_squared_error: 0.0775\n",
      "Epoch 6/10\n",
      "1847/1875 [============================>.] - ETA: 0s - loss: 0.0066 - root_mean_squared_error: 0.0813"
     ]
    },
    {
     "name": "stderr",
     "output_type": "stream",
     "text": [
      "WARNING:absl:Found untraced functions such as _jit_compiled_convolution_op, _update_step_xla while saving (showing 2 of 2). These functions will not be directly callable after loading.\n"
     ]
    },
    {
     "name": "stdout",
     "output_type": "stream",
     "text": [
      "INFO:tensorflow:Assets written to: model7\\assets\n"
     ]
    },
    {
     "name": "stderr",
     "output_type": "stream",
     "text": [
      "INFO:tensorflow:Assets written to: model7\\assets\n"
     ]
    },
    {
     "name": "stdout",
     "output_type": "stream",
     "text": [
      "1875/1875 [==============================] - 3s 2ms/step - loss: 0.0066 - root_mean_squared_error: 0.0813 - val_loss: 0.0055 - val_root_mean_squared_error: 0.0740\n",
      "Epoch 7/10\n",
      "1844/1875 [============================>.] - ETA: 0s - loss: 0.0062 - root_mean_squared_error: 0.0788"
     ]
    },
    {
     "name": "stderr",
     "output_type": "stream",
     "text": [
      "WARNING:absl:Found untraced functions such as _jit_compiled_convolution_op, _update_step_xla while saving (showing 2 of 2). These functions will not be directly callable after loading.\n"
     ]
    },
    {
     "name": "stdout",
     "output_type": "stream",
     "text": [
      "INFO:tensorflow:Assets written to: model7\\assets\n"
     ]
    },
    {
     "name": "stderr",
     "output_type": "stream",
     "text": [
      "INFO:tensorflow:Assets written to: model7\\assets\n"
     ]
    },
    {
     "name": "stdout",
     "output_type": "stream",
     "text": [
      "1875/1875 [==============================] - 4s 2ms/step - loss: 0.0062 - root_mean_squared_error: 0.0787 - val_loss: 0.0050 - val_root_mean_squared_error: 0.0709\n",
      "Epoch 8/10\n",
      "1856/1875 [============================>.] - ETA: 0s - loss: 0.0059 - root_mean_squared_error: 0.0769"
     ]
    },
    {
     "name": "stderr",
     "output_type": "stream",
     "text": [
      "WARNING:absl:Found untraced functions such as _jit_compiled_convolution_op, _update_step_xla while saving (showing 2 of 2). These functions will not be directly callable after loading.\n"
     ]
    },
    {
     "name": "stdout",
     "output_type": "stream",
     "text": [
      "INFO:tensorflow:Assets written to: model7\\assets\n"
     ]
    },
    {
     "name": "stderr",
     "output_type": "stream",
     "text": [
      "INFO:tensorflow:Assets written to: model7\\assets\n"
     ]
    },
    {
     "name": "stdout",
     "output_type": "stream",
     "text": [
      "1875/1875 [==============================] - 4s 2ms/step - loss: 0.0059 - root_mean_squared_error: 0.0769 - val_loss: 0.0048 - val_root_mean_squared_error: 0.0693\n",
      "Epoch 9/10\n",
      "1859/1875 [============================>.] - ETA: 0s - loss: 0.0057 - root_mean_squared_error: 0.0757"
     ]
    },
    {
     "name": "stderr",
     "output_type": "stream",
     "text": [
      "WARNING:absl:Found untraced functions such as _jit_compiled_convolution_op, _update_step_xla while saving (showing 2 of 2). These functions will not be directly callable after loading.\n"
     ]
    },
    {
     "name": "stdout",
     "output_type": "stream",
     "text": [
      "INFO:tensorflow:Assets written to: model7\\assets\n"
     ]
    },
    {
     "name": "stderr",
     "output_type": "stream",
     "text": [
      "INFO:tensorflow:Assets written to: model7\\assets\n"
     ]
    },
    {
     "name": "stdout",
     "output_type": "stream",
     "text": [
      "1875/1875 [==============================] - 3s 2ms/step - loss: 0.0057 - root_mean_squared_error: 0.0756 - val_loss: 0.0047 - val_root_mean_squared_error: 0.0688\n",
      "Epoch 10/10\n",
      "1863/1875 [============================>.] - ETA: 0s - loss: 0.0056 - root_mean_squared_error: 0.0746"
     ]
    },
    {
     "name": "stderr",
     "output_type": "stream",
     "text": [
      "WARNING:absl:Found untraced functions such as _jit_compiled_convolution_op, _update_step_xla while saving (showing 2 of 2). These functions will not be directly callable after loading.\n"
     ]
    },
    {
     "name": "stdout",
     "output_type": "stream",
     "text": [
      "INFO:tensorflow:Assets written to: model7\\assets\n"
     ]
    },
    {
     "name": "stderr",
     "output_type": "stream",
     "text": [
      "INFO:tensorflow:Assets written to: model7\\assets\n"
     ]
    },
    {
     "name": "stdout",
     "output_type": "stream",
     "text": [
      "1875/1875 [==============================] - 4s 2ms/step - loss: 0.0056 - root_mean_squared_error: 0.0745 - val_loss: 0.0046 - val_root_mean_squared_error: 0.0675\n"
     ]
    },
    {
     "data": {
      "text/plain": [
       "<keras.callbacks.History at 0x205fee6b880>"
      ]
     },
     "execution_count": 142,
     "metadata": {},
     "output_type": "execute_result"
    }
   ],
   "source": [
    "model7 = Sequential()\n",
    "model7.add(InputLayer((7, 6)))\n",
    "model7.add(Conv1D(64, kernel_size = 2, activation = \"relu\"))\n",
    "model7.add(Flatten())\n",
    "model7.add(Dense(8, \"relu\"))\n",
    "model7.add(Dense(2, \"linear\"))\n",
    "\n",
    "print(model7.summary())\n",
    "\n",
    "cp7 = ModelCheckpoint(\"model7/\", save_best_only = True)\n",
    "model7.compile(loss = MeanSquaredError(), optimizer = Adam(learning_rate = 0.0001), metrics = [RootMeanSquaredError()])\n",
    "\n",
    "model7.fit(x3_train, y3_train, validation_data = (x3_val, y3_val), epochs = 10, callbacks = [cp7])"
   ]
  },
  {
   "cell_type": "code",
   "execution_count": null,
   "metadata": {},
   "outputs": [],
   "source": []
  },
  {
   "cell_type": "code",
   "execution_count": null,
   "metadata": {},
   "outputs": [],
   "source": []
  },
  {
   "cell_type": "code",
   "execution_count": null,
   "metadata": {},
   "outputs": [],
   "source": []
  }
 ],
 "metadata": {
  "kernelspec": {
   "display_name": "py385_env",
   "language": "python",
   "name": "python3"
  },
  "language_info": {
   "codemirror_mode": {
    "name": "ipython",
    "version": 3
   },
   "file_extension": ".py",
   "mimetype": "text/x-python",
   "name": "python",
   "nbconvert_exporter": "python",
   "pygments_lexer": "ipython3",
   "version": "3.8.5"
  },
  "orig_nbformat": 4,
  "vscode": {
   "interpreter": {
    "hash": "055daa023bd8f6171f9c197078260cd4997c66c537ea1071c8be9375cdb3ea58"
   }
  }
 },
 "nbformat": 4,
 "nbformat_minor": 2
}
